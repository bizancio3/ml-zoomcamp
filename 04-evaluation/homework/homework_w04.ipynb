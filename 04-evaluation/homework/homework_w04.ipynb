{
 "cells": [
  {
   "cell_type": "markdown",
   "metadata": {},
   "source": [
    "## Homework 4\n",
    "\n",
    "Use this notebook as a starter"
   ]
  },
  {
   "cell_type": "code",
   "execution_count": 1,
   "metadata": {},
   "outputs": [],
   "source": [
    "import pandas as pd\n",
    "import numpy as np\n",
    "\n",
    "import matplotlib.pyplot as plt\n",
    "import seaborn as sns\n",
    "\n",
    "%matplotlib inline\n",
    "\n",
    "from sklearn.model_selection import train_test_split\n",
    "from sklearn.feature_extraction import DictVectorizer\n",
    "from sklearn.linear_model import LogisticRegression\n",
    "\n",
    "from sklearn import preprocessing\n",
    "\n",
    "from sklearn.metrics import accuracy_score\n",
    "from sklearn.metrics import roc_curve\n",
    "from sklearn.metrics import auc\n",
    "from sklearn.metrics import roc_auc_score\n",
    "\n",
    "from sklearn.model_selection import KFold\n",
    "\n",
    "from tqdm.auto import tqdm"
   ]
  },
  {
   "cell_type": "markdown",
   "metadata": {},
   "source": [
    "Data:\n",
    "\n",
    "- https://github.com/gastonstat/CreditScoring\n",
    "- Also available [here](https://raw.githubusercontent.com/alexeygrigorev/mlbookcamp-code/master/chapter-06-trees/CreditScoring.csv)"
   ]
  },
  {
   "cell_type": "code",
   "execution_count": 2,
   "metadata": {
    "scrolled": true
   },
   "outputs": [
    {
     "name": "stdout",
     "output_type": "stream",
     "text": [
      "--2021-10-02 23:39:15--  https://raw.githubusercontent.com/alexeygrigorev/mlbookcamp-code/master/chapter-06-trees/CreditScoring.csv\n",
      "Resolving raw.githubusercontent.com (raw.githubusercontent.com)... 185.199.111.133, 185.199.108.133, 185.199.110.133, ...\n",
      "Connecting to raw.githubusercontent.com (raw.githubusercontent.com)|185.199.111.133|:443... connected.\n",
      "HTTP request sent, awaiting response... 200 OK\n",
      "Length: 182489 (178K) [text/plain]\n",
      "Saving to: ‘CreditScoring.csv.1’\n",
      "\n",
      "CreditScoring.csv.1 100%[===================>] 178.21K  --.-KB/s    in 0.06s   \n",
      "\n",
      "2021-10-02 23:39:16 (2.71 MB/s) - ‘CreditScoring.csv.1’ saved [182489/182489]\n",
      "\n"
     ]
    }
   ],
   "source": [
    "!wget 'https://raw.githubusercontent.com/alexeygrigorev/mlbookcamp-code/master/chapter-06-trees/CreditScoring.csv'"
   ]
  },
  {
   "cell_type": "markdown",
   "metadata": {},
   "source": [
    "## Preparation \n",
    "\n",
    "We'll talk about this dataset in more details in week 6. But for now, use the following code to get started"
   ]
  },
  {
   "cell_type": "code",
   "execution_count": 3,
   "metadata": {},
   "outputs": [],
   "source": [
    "df = pd.read_csv('CreditScoring.csv')\n",
    "df.columns = df.columns.str.lower()"
   ]
  },
  {
   "cell_type": "code",
   "execution_count": 4,
   "metadata": {},
   "outputs": [
    {
     "data": {
      "text/html": [
       "<div>\n",
       "<style scoped>\n",
       "    .dataframe tbody tr th:only-of-type {\n",
       "        vertical-align: middle;\n",
       "    }\n",
       "\n",
       "    .dataframe tbody tr th {\n",
       "        vertical-align: top;\n",
       "    }\n",
       "\n",
       "    .dataframe thead th {\n",
       "        text-align: right;\n",
       "    }\n",
       "</style>\n",
       "<table border=\"1\" class=\"dataframe\">\n",
       "  <thead>\n",
       "    <tr style=\"text-align: right;\">\n",
       "      <th></th>\n",
       "      <th>0</th>\n",
       "      <th>1</th>\n",
       "      <th>2</th>\n",
       "      <th>3</th>\n",
       "      <th>4</th>\n",
       "      <th>5</th>\n",
       "      <th>6</th>\n",
       "      <th>7</th>\n",
       "      <th>8</th>\n",
       "      <th>9</th>\n",
       "    </tr>\n",
       "  </thead>\n",
       "  <tbody>\n",
       "    <tr>\n",
       "      <th>status</th>\n",
       "      <td>1</td>\n",
       "      <td>1</td>\n",
       "      <td>2</td>\n",
       "      <td>1</td>\n",
       "      <td>1</td>\n",
       "      <td>1</td>\n",
       "      <td>1</td>\n",
       "      <td>1</td>\n",
       "      <td>1</td>\n",
       "      <td>2</td>\n",
       "    </tr>\n",
       "    <tr>\n",
       "      <th>seniority</th>\n",
       "      <td>9</td>\n",
       "      <td>17</td>\n",
       "      <td>10</td>\n",
       "      <td>0</td>\n",
       "      <td>0</td>\n",
       "      <td>1</td>\n",
       "      <td>29</td>\n",
       "      <td>9</td>\n",
       "      <td>0</td>\n",
       "      <td>0</td>\n",
       "    </tr>\n",
       "    <tr>\n",
       "      <th>home</th>\n",
       "      <td>1</td>\n",
       "      <td>1</td>\n",
       "      <td>2</td>\n",
       "      <td>1</td>\n",
       "      <td>1</td>\n",
       "      <td>2</td>\n",
       "      <td>2</td>\n",
       "      <td>5</td>\n",
       "      <td>2</td>\n",
       "      <td>5</td>\n",
       "    </tr>\n",
       "    <tr>\n",
       "      <th>time</th>\n",
       "      <td>60</td>\n",
       "      <td>60</td>\n",
       "      <td>36</td>\n",
       "      <td>60</td>\n",
       "      <td>36</td>\n",
       "      <td>60</td>\n",
       "      <td>60</td>\n",
       "      <td>12</td>\n",
       "      <td>60</td>\n",
       "      <td>48</td>\n",
       "    </tr>\n",
       "    <tr>\n",
       "      <th>age</th>\n",
       "      <td>30</td>\n",
       "      <td>58</td>\n",
       "      <td>46</td>\n",
       "      <td>24</td>\n",
       "      <td>26</td>\n",
       "      <td>36</td>\n",
       "      <td>44</td>\n",
       "      <td>27</td>\n",
       "      <td>32</td>\n",
       "      <td>41</td>\n",
       "    </tr>\n",
       "    <tr>\n",
       "      <th>marital</th>\n",
       "      <td>2</td>\n",
       "      <td>3</td>\n",
       "      <td>2</td>\n",
       "      <td>1</td>\n",
       "      <td>1</td>\n",
       "      <td>2</td>\n",
       "      <td>2</td>\n",
       "      <td>1</td>\n",
       "      <td>2</td>\n",
       "      <td>2</td>\n",
       "    </tr>\n",
       "    <tr>\n",
       "      <th>records</th>\n",
       "      <td>1</td>\n",
       "      <td>1</td>\n",
       "      <td>2</td>\n",
       "      <td>1</td>\n",
       "      <td>1</td>\n",
       "      <td>1</td>\n",
       "      <td>1</td>\n",
       "      <td>1</td>\n",
       "      <td>1</td>\n",
       "      <td>1</td>\n",
       "    </tr>\n",
       "    <tr>\n",
       "      <th>job</th>\n",
       "      <td>3</td>\n",
       "      <td>1</td>\n",
       "      <td>3</td>\n",
       "      <td>1</td>\n",
       "      <td>1</td>\n",
       "      <td>1</td>\n",
       "      <td>1</td>\n",
       "      <td>1</td>\n",
       "      <td>3</td>\n",
       "      <td>2</td>\n",
       "    </tr>\n",
       "    <tr>\n",
       "      <th>expenses</th>\n",
       "      <td>73</td>\n",
       "      <td>48</td>\n",
       "      <td>90</td>\n",
       "      <td>63</td>\n",
       "      <td>46</td>\n",
       "      <td>75</td>\n",
       "      <td>75</td>\n",
       "      <td>35</td>\n",
       "      <td>90</td>\n",
       "      <td>90</td>\n",
       "    </tr>\n",
       "    <tr>\n",
       "      <th>income</th>\n",
       "      <td>129</td>\n",
       "      <td>131</td>\n",
       "      <td>200</td>\n",
       "      <td>182</td>\n",
       "      <td>107</td>\n",
       "      <td>214</td>\n",
       "      <td>125</td>\n",
       "      <td>80</td>\n",
       "      <td>107</td>\n",
       "      <td>80</td>\n",
       "    </tr>\n",
       "    <tr>\n",
       "      <th>assets</th>\n",
       "      <td>0</td>\n",
       "      <td>0</td>\n",
       "      <td>3000</td>\n",
       "      <td>2500</td>\n",
       "      <td>0</td>\n",
       "      <td>3500</td>\n",
       "      <td>10000</td>\n",
       "      <td>0</td>\n",
       "      <td>15000</td>\n",
       "      <td>0</td>\n",
       "    </tr>\n",
       "    <tr>\n",
       "      <th>debt</th>\n",
       "      <td>0</td>\n",
       "      <td>0</td>\n",
       "      <td>0</td>\n",
       "      <td>0</td>\n",
       "      <td>0</td>\n",
       "      <td>0</td>\n",
       "      <td>0</td>\n",
       "      <td>0</td>\n",
       "      <td>0</td>\n",
       "      <td>0</td>\n",
       "    </tr>\n",
       "    <tr>\n",
       "      <th>amount</th>\n",
       "      <td>800</td>\n",
       "      <td>1000</td>\n",
       "      <td>2000</td>\n",
       "      <td>900</td>\n",
       "      <td>310</td>\n",
       "      <td>650</td>\n",
       "      <td>1600</td>\n",
       "      <td>200</td>\n",
       "      <td>1200</td>\n",
       "      <td>1200</td>\n",
       "    </tr>\n",
       "    <tr>\n",
       "      <th>price</th>\n",
       "      <td>846</td>\n",
       "      <td>1658</td>\n",
       "      <td>2985</td>\n",
       "      <td>1325</td>\n",
       "      <td>910</td>\n",
       "      <td>1645</td>\n",
       "      <td>1800</td>\n",
       "      <td>1093</td>\n",
       "      <td>1957</td>\n",
       "      <td>1468</td>\n",
       "    </tr>\n",
       "  </tbody>\n",
       "</table>\n",
       "</div>"
      ],
      "text/plain": [
       "             0     1     2     3    4     5      6     7      8     9\n",
       "status       1     1     2     1    1     1      1     1      1     2\n",
       "seniority    9    17    10     0    0     1     29     9      0     0\n",
       "home         1     1     2     1    1     2      2     5      2     5\n",
       "time        60    60    36    60   36    60     60    12     60    48\n",
       "age         30    58    46    24   26    36     44    27     32    41\n",
       "marital      2     3     2     1    1     2      2     1      2     2\n",
       "records      1     1     2     1    1     1      1     1      1     1\n",
       "job          3     1     3     1    1     1      1     1      3     2\n",
       "expenses    73    48    90    63   46    75     75    35     90    90\n",
       "income     129   131   200   182  107   214    125    80    107    80\n",
       "assets       0     0  3000  2500    0  3500  10000     0  15000     0\n",
       "debt         0     0     0     0    0     0      0     0      0     0\n",
       "amount     800  1000  2000   900  310   650   1600   200   1200  1200\n",
       "price      846  1658  2985  1325  910  1645   1800  1093   1957  1468"
      ]
     },
     "execution_count": 4,
     "metadata": {},
     "output_type": "execute_result"
    }
   ],
   "source": [
    "df.head(10).T"
   ]
  },
  {
   "cell_type": "markdown",
   "metadata": {},
   "source": [
    "Some of the features are encoded as numbers. Use the following code to de-code them:"
   ]
  },
  {
   "cell_type": "code",
   "execution_count": 5,
   "metadata": {},
   "outputs": [],
   "source": [
    "status_values = {\n",
    "    1: 'ok',\n",
    "    2: 'default',\n",
    "    0: 'unk'\n",
    "}\n",
    "\n",
    "df.status = df.status.map(status_values)\n",
    "\n",
    "\n",
    "home_values = {\n",
    "    1: 'rent',\n",
    "    2: 'owner',\n",
    "    3: 'private',\n",
    "    4: 'ignore',\n",
    "    5: 'parents',\n",
    "    6: 'other',\n",
    "    0: 'unk'\n",
    "}\n",
    "\n",
    "df.home = df.home.map(home_values)\n",
    "\n",
    "marital_values = {\n",
    "    1: 'single',\n",
    "    2: 'married',\n",
    "    3: 'widow',\n",
    "    4: 'separated',\n",
    "    5: 'divorced',\n",
    "    0: 'unk'\n",
    "}\n",
    "\n",
    "df.marital = df.marital.map(marital_values)\n",
    "\n",
    "records_values = {\n",
    "    1: 'no',\n",
    "    2: 'yes',\n",
    "    0: 'unk'\n",
    "}\n",
    "\n",
    "df.records = df.records.map(records_values)\n",
    "\n",
    "job_values = {\n",
    "    1: 'fixed',\n",
    "    2: 'partime',\n",
    "    3: 'freelance',\n",
    "    4: 'others',\n",
    "    0: 'unk'\n",
    "}\n",
    "\n",
    "df.job = df.job.map(job_values)"
   ]
  },
  {
   "cell_type": "markdown",
   "metadata": {},
   "source": [
    "Prepare the numerical variables:"
   ]
  },
  {
   "cell_type": "code",
   "execution_count": 6,
   "metadata": {},
   "outputs": [],
   "source": [
    "for c in ['income', 'assets', 'debt']:\n",
    "    df[c] = df[c].replace(to_replace=99999999, value=0)"
   ]
  },
  {
   "cell_type": "markdown",
   "metadata": {},
   "source": [
    "Remove clients with unknown default status"
   ]
  },
  {
   "cell_type": "code",
   "execution_count": 7,
   "metadata": {},
   "outputs": [],
   "source": [
    "df = df[df.status != 'unk'].reset_index(drop=True)"
   ]
  },
  {
   "cell_type": "markdown",
   "metadata": {},
   "source": [
    "Create the target variable"
   ]
  },
  {
   "cell_type": "code",
   "execution_count": 8,
   "metadata": {},
   "outputs": [],
   "source": [
    "df['default'] = (df.status == 'default').astype(int)\n",
    "del df['status']"
   ]
  },
  {
   "cell_type": "markdown",
   "metadata": {},
   "source": [
    "## Your code"
   ]
  },
  {
   "cell_type": "markdown",
   "metadata": {},
   "source": [
    "What are the categorical variables? What are the numerical?"
   ]
  },
  {
   "cell_type": "code",
   "execution_count": 9,
   "metadata": {},
   "outputs": [
    {
     "name": "stdout",
     "output_type": "stream",
     "text": [
      "<class 'pandas.core.frame.DataFrame'>\n",
      "RangeIndex: 4454 entries, 0 to 4453\n",
      "Data columns (total 14 columns):\n",
      " #   Column     Non-Null Count  Dtype \n",
      "---  ------     --------------  ----- \n",
      " 0   seniority  4454 non-null   int64 \n",
      " 1   home       4454 non-null   object\n",
      " 2   time       4454 non-null   int64 \n",
      " 3   age        4454 non-null   int64 \n",
      " 4   marital    4454 non-null   object\n",
      " 5   records    4454 non-null   object\n",
      " 6   job        4454 non-null   object\n",
      " 7   expenses   4454 non-null   int64 \n",
      " 8   income     4454 non-null   int64 \n",
      " 9   assets     4454 non-null   int64 \n",
      " 10  debt       4454 non-null   int64 \n",
      " 11  amount     4454 non-null   int64 \n",
      " 12  price      4454 non-null   int64 \n",
      " 13  default    4454 non-null   int64 \n",
      "dtypes: int64(10), object(4)\n",
      "memory usage: 487.3+ KB\n"
     ]
    }
   ],
   "source": [
    "df.info()"
   ]
  },
  {
   "cell_type": "code",
   "execution_count": 10,
   "metadata": {},
   "outputs": [
    {
     "name": "stdout",
     "output_type": "stream",
     "text": [
      "['seniority', 'time', 'age', 'expenses', 'income', 'assets', 'debt', 'amount', 'price', 'default']\n"
     ]
    }
   ],
   "source": [
    "numerical = list(df.select_dtypes(include=['int64']).columns)\n",
    "print(numerical)"
   ]
  },
  {
   "cell_type": "code",
   "execution_count": 11,
   "metadata": {},
   "outputs": [
    {
     "name": "stdout",
     "output_type": "stream",
     "text": [
      "['home', 'marital', 'records', 'job']\n"
     ]
    }
   ],
   "source": [
    "categorical = list(df.select_dtypes(include=['object']).columns)\n",
    "print(categorical)"
   ]
  },
  {
   "cell_type": "markdown",
   "metadata": {},
   "source": [
    "Split the data into 3 parts: train/validation/test with 60%/20%/20% distribution. Use `train_test_split` funciton for that with `random_state=1`"
   ]
  },
  {
   "cell_type": "code",
   "execution_count": 12,
   "metadata": {},
   "outputs": [],
   "source": [
    "df_full_train, df_test = train_test_split(\n",
    "    df, \n",
    "    test_size=0.2, \n",
    "    random_state=1\n",
    ")\n",
    "df_train, df_val = train_test_split(\n",
    "    df_full_train, \n",
    "    test_size=0.25, \n",
    "    random_state=1\n",
    ")"
   ]
  },
  {
   "cell_type": "code",
   "execution_count": 13,
   "metadata": {},
   "outputs": [],
   "source": [
    "df_train = df_train.reset_index(drop=True)\n",
    "df_val = df_val.reset_index(drop=True)\n",
    "df_test = df_test.reset_index(drop=True)"
   ]
  },
  {
   "cell_type": "code",
   "execution_count": 14,
   "metadata": {},
   "outputs": [],
   "source": [
    "y_train = df_train.default.values\n",
    "y_val = df_val.default.values\n",
    "y_test = df_test.default.values\n",
    "\n",
    "del df_train['default']\n",
    "del df_val['default']\n",
    "del df_test['default']"
   ]
  },
  {
   "cell_type": "code",
   "execution_count": 15,
   "metadata": {},
   "outputs": [
    {
     "name": "stdout",
     "output_type": "stream",
     "text": [
      "['seniority', 'time', 'age', 'expenses', 'income', 'assets', 'debt', 'amount', 'price']\n"
     ]
    }
   ],
   "source": [
    "numerical.remove('default')\n",
    "print(numerical)"
   ]
  },
  {
   "cell_type": "code",
   "execution_count": 16,
   "metadata": {},
   "outputs": [],
   "source": [
    "dv = DictVectorizer(sparse=False)\n",
    "\n",
    "train_dict = df_train[categorical + numerical].to_dict(orient='records')\n",
    "X_train = dv.fit_transform(train_dict)\n",
    "\n",
    "scaler = preprocessing.StandardScaler().fit(X_train)\n",
    "X_train_scaled = scaler.transform(X_train)"
   ]
  },
  {
   "cell_type": "code",
   "execution_count": 17,
   "metadata": {},
   "outputs": [
    {
     "data": {
      "text/plain": [
       "LogisticRegression()"
      ]
     },
     "execution_count": 17,
     "metadata": {},
     "output_type": "execute_result"
    }
   ],
   "source": [
    "model = LogisticRegression()\n",
    "model.fit(X_train_scaled, y_train)"
   ]
  },
  {
   "cell_type": "code",
   "execution_count": 18,
   "metadata": {},
   "outputs": [
    {
     "data": {
      "text/plain": [
       "0.801"
      ]
     },
     "execution_count": 18,
     "metadata": {},
     "output_type": "execute_result"
    }
   ],
   "source": [
    "val_dict = df_val[categorical + numerical].to_dict(orient='records')\n",
    "X_val = dv.transform(val_dict)\n",
    "X_val_scaled = scaler.transform(X_val)\n",
    "\n",
    "y_pred = model.predict_proba(X_val_scaled)[:, 1]\n",
    "\n",
    "default_decision = (y_pred >= 0.5)\n",
    "(y_val == default_decision).mean().round(3)"
   ]
  },
  {
   "cell_type": "code",
   "execution_count": 19,
   "metadata": {},
   "outputs": [
    {
     "data": {
      "text/plain": [
       "0.801"
      ]
     },
     "execution_count": 19,
     "metadata": {},
     "output_type": "execute_result"
    }
   ],
   "source": [
    "accuracy_score(y_val, y_pred >= 0.5).round(3)"
   ]
  },
  {
   "cell_type": "code",
   "execution_count": 20,
   "metadata": {},
   "outputs": [],
   "source": [
    "fpr, tpr, thresholds = roc_curve(y_val, y_pred)"
   ]
  },
  {
   "cell_type": "code",
   "execution_count": 21,
   "metadata": {},
   "outputs": [
    {
     "data": {
      "text/plain": [
       "<matplotlib.legend.Legend at 0x7fb6874795d0>"
      ]
     },
     "execution_count": 21,
     "metadata": {},
     "output_type": "execute_result"
    },
    {
     "data": {
      "image/png": "[encoded data removed]",
      "text/plain": [
       "<Figure size 504x504 with 1 Axes>"
      ]
     },
     "metadata": {
      "needs_background": "light"
     },
     "output_type": "display_data"
    }
   ],
   "source": [
    "plt.figure(figsize=(7, 7))\n",
    "\n",
    "plt.plot(fpr, tpr, label='Model')\n",
    "plt.plot([0, 1], [0, 1], label='Random', linestyle='--')\n",
    "\n",
    "plt.xlabel('FPR')\n",
    "plt.ylabel('TPR')\n",
    "\n",
    "plt.legend()"
   ]
  },
  {
   "cell_type": "code",
   "execution_count": 22,
   "metadata": {},
   "outputs": [
    {
     "data": {
      "text/plain": [
       "0.846"
      ]
     },
     "execution_count": 22,
     "metadata": {},
     "output_type": "execute_result"
    }
   ],
   "source": [
    "auc(fpr, tpr).round(3)"
   ]
  },
  {
   "cell_type": "code",
   "execution_count": 23,
   "metadata": {},
   "outputs": [
    {
     "data": {
      "text/plain": [
       "0.846"
      ]
     },
     "execution_count": 23,
     "metadata": {},
     "output_type": "execute_result"
    }
   ],
   "source": [
    "# direct calculation\n",
    "roc_auc_score(y_val, y_pred).round(3)"
   ]
  },
  {
   "cell_type": "markdown",
   "metadata": {},
   "source": [
    "## Question 1\n",
    "\n",
    "ROC AUC could also be used to evaluate feature importance of numerical variables. \n",
    "\n",
    "Let's do that\n",
    "\n",
    "* For each numerical variable, use it as score and compute AUC with the default variable\n",
    "* Use the training dataset for that\n",
    "\n",
    "\n",
    "If your AUC is < 0.5, invert this variable by putting \"-\" in front\n",
    "\n",
    "(e.g. `-df_train['expenses']`)\n",
    "\n",
    "AUC can go below 0.5 if the variable is negatively correlated with the target varialble. You can change the direction of the correlation by negating this variable - then negative correlation becomes positive."
   ]
  },
  {
   "cell_type": "code",
   "execution_count": 24,
   "metadata": {},
   "outputs": [
    {
     "name": "stdout",
     "output_type": "stream",
     "text": [
      "Variable: seniority\n",
      "AUC (feature importance): 0.709\n",
      "\n",
      "Variable: time\n",
      "AUC (feature importance): 0.561\n",
      "\n",
      "Variable: age\n",
      "AUC (feature importance): 0.573\n",
      "\n",
      "Variable: expenses\n",
      "AUC (feature importance): 0.501\n",
      "\n",
      "Variable: income\n",
      "AUC (feature importance): 0.682\n",
      "\n",
      "Variable: assets\n",
      "AUC (feature importance): 0.649\n",
      "\n",
      "Variable: debt\n",
      "AUC (feature importance): 0.505\n",
      "\n",
      "Variable: amount\n",
      "AUC (feature importance): 0.591\n",
      "\n",
      "Variable: price\n",
      "AUC (feature importance): 0.504\n",
      "\n"
     ]
    }
   ],
   "source": [
    "for var in numerical:\n",
    "    \n",
    "    auc = roc_auc_score(y_train, df_train[var]).round(3)\n",
    "    if auc < 0.5:\n",
    "        auc = roc_auc_score(y_train, -df_train[var]).round(3)\n",
    "    \n",
    "    print(\"Variable: {}\".format(var))\n",
    "    print(\"AUC (feature importance): {}\".format(auc))\n",
    "    print(\"\")"
   ]
  },
  {
   "cell_type": "markdown",
   "metadata": {},
   "source": [
    "Which categorical variable (among the following 4) has the highest AUC?\n",
    "\n",
    "- seniority\n",
    "- time\n",
    "- income\n",
    "- debt"
   ]
  },
  {
   "cell_type": "markdown",
   "metadata": {},
   "source": [
    "## Training the model\n",
    "\n",
    "From now on, use these columns only:\n",
    "\n",
    "```\n",
    "['seniority', 'income', 'assets', 'records', 'job', 'home']\n",
    "```\n",
    "\n",
    "Apply one-hot-encoding using `DictVectorizer` and train the logistic regression with these parameters:\n",
    "\n",
    "```\n",
    "LogisticRegression(solver='liblinear', C=1.0, max_iter=1000)\n",
    "```"
   ]
  },
  {
   "cell_type": "code",
   "execution_count": 25,
   "metadata": {},
   "outputs": [],
   "source": [
    "selected = ['seniority', 'income', 'assets', 'records', 'job', 'home']"
   ]
  },
  {
   "cell_type": "code",
   "execution_count": 26,
   "metadata": {},
   "outputs": [],
   "source": [
    "df2 = df[selected]"
   ]
  },
  {
   "cell_type": "code",
   "execution_count": 27,
   "metadata": {},
   "outputs": [
    {
     "name": "stdout",
     "output_type": "stream",
     "text": [
      "<class 'pandas.core.frame.DataFrame'>\n",
      "RangeIndex: 4454 entries, 0 to 4453\n",
      "Data columns (total 6 columns):\n",
      " #   Column     Non-Null Count  Dtype \n",
      "---  ------     --------------  ----- \n",
      " 0   seniority  4454 non-null   int64 \n",
      " 1   income     4454 non-null   int64 \n",
      " 2   assets     4454 non-null   int64 \n",
      " 3   records    4454 non-null   object\n",
      " 4   job        4454 non-null   object\n",
      " 5   home       4454 non-null   object\n",
      "dtypes: int64(3), object(3)\n",
      "memory usage: 208.9+ KB\n"
     ]
    }
   ],
   "source": [
    "df2.info()"
   ]
  },
  {
   "cell_type": "code",
   "execution_count": 28,
   "metadata": {},
   "outputs": [],
   "source": [
    "categorical2 = list(df2.select_dtypes(include=['object']).columns)\n",
    "numerical2 = list(df2.select_dtypes(include=['int64']).columns)"
   ]
  },
  {
   "cell_type": "code",
   "execution_count": 29,
   "metadata": {},
   "outputs": [],
   "source": [
    "dv = DictVectorizer(sparse=False)\n",
    "\n",
    "train_dict = df_train[categorical2 + numerical2].to_dict(orient='records')\n",
    "X_train = dv.fit_transform(train_dict)\n",
    "\n",
    "scaler = preprocessing.StandardScaler().fit(X_train)\n",
    "X_train_scaled = scaler.transform(X_train)"
   ]
  },
  {
   "cell_type": "code",
   "execution_count": 30,
   "metadata": {},
   "outputs": [
    {
     "data": {
      "text/plain": [
       "LogisticRegression(max_iter=1000, solver='liblinear')"
      ]
     },
     "execution_count": 30,
     "metadata": {},
     "output_type": "execute_result"
    }
   ],
   "source": [
    "model = LogisticRegression(\n",
    "    solver='liblinear', \n",
    "    C=1.0, \n",
    "    max_iter=1000\n",
    ")\n",
    "model.fit(X_train_scaled, y_train)"
   ]
  },
  {
   "cell_type": "code",
   "execution_count": 31,
   "metadata": {},
   "outputs": [
    {
     "data": {
      "text/plain": [
       "0.782"
      ]
     },
     "execution_count": 31,
     "metadata": {},
     "output_type": "execute_result"
    }
   ],
   "source": [
    "val_dict = df_val[categorical + numerical].to_dict(orient='records')\n",
    "X_val = dv.transform(val_dict)\n",
    "X_val_scaled = scaler.transform(X_val)\n",
    "\n",
    "y_pred = model.predict_proba(X_val_scaled)[:, 1]\n",
    "\n",
    "default_decision = (y_pred >= 0.5)\n",
    "(y_val == default_decision).mean().round(3)"
   ]
  },
  {
   "cell_type": "code",
   "execution_count": 32,
   "metadata": {},
   "outputs": [
    {
     "data": {
      "text/plain": [
       "0.782"
      ]
     },
     "execution_count": 32,
     "metadata": {},
     "output_type": "execute_result"
    }
   ],
   "source": [
    "accuracy_score(y_val, y_pred >= 0.5).round(3)"
   ]
  },
  {
   "cell_type": "markdown",
   "metadata": {},
   "source": [
    "## Question 2\n",
    "\n",
    "What's the AUC of this model on the validation dataset? (round to 3 digits)\n",
    "\n",
    "- 0.512\n",
    "- 0.612\n",
    "- 0.712\n",
    "- 0.812"
   ]
  },
  {
   "cell_type": "code",
   "execution_count": 33,
   "metadata": {},
   "outputs": [],
   "source": [
    "fpr, tpr, thresholds = roc_curve(y_val, y_pred)"
   ]
  },
  {
   "cell_type": "code",
   "execution_count": 34,
   "metadata": {},
   "outputs": [
    {
     "data": {
      "text/plain": [
       "<matplotlib.legend.Legend at 0x7fb6873b9f90>"
      ]
     },
     "execution_count": 34,
     "metadata": {},
     "output_type": "execute_result"
    },
    {
     "data": {
      "image/png": "[encoded data removed]",
      "text/plain": [
       "<Figure size 504x504 with 1 Axes>"
      ]
     },
     "metadata": {
      "needs_background": "light"
     },
     "output_type": "display_data"
    }
   ],
   "source": [
    "plt.figure(figsize=(7, 7))\n",
    "\n",
    "plt.plot(fpr, tpr, label='Model')\n",
    "plt.plot([0, 1], [0, 1], label='Random', linestyle='--')\n",
    "\n",
    "plt.xlabel('FPR')\n",
    "plt.ylabel('TPR')\n",
    "\n",
    "plt.legend()"
   ]
  },
  {
   "cell_type": "code",
   "execution_count": 35,
   "metadata": {},
   "outputs": [
    {
     "data": {
      "text/plain": [
       "0.813"
      ]
     },
     "execution_count": 35,
     "metadata": {},
     "output_type": "execute_result"
    }
   ],
   "source": [
    "from sklearn.metrics import auc\n",
    "auc(fpr, tpr).round(3)"
   ]
  },
  {
   "cell_type": "code",
   "execution_count": 36,
   "metadata": {},
   "outputs": [
    {
     "data": {
      "text/plain": [
       "0.813"
      ]
     },
     "execution_count": 36,
     "metadata": {},
     "output_type": "execute_result"
    }
   ],
   "source": [
    "roc_auc_score(y_val, y_pred).round(3)"
   ]
  },
  {
   "cell_type": "markdown",
   "metadata": {},
   "source": [
    "## Question 3\n",
    "\n",
    "Now let's compute precision and recall for our model.\n",
    "\n",
    "* Evaluate the model on all thresholds from 0.0 to 1.0 with step 0.01\n",
    "* For each threshold, compute precision and recall\n",
    "* Plot them"
   ]
  },
  {
   "cell_type": "code",
   "execution_count": 37,
   "metadata": {},
   "outputs": [
    {
     "name": "stdout",
     "output_type": "stream",
     "text": [
      "threshold: 0.00 precision: 0.276 recall: 1.000\n",
      "threshold: 0.01 precision: 0.279 recall: 1.000\n",
      "threshold: 0.02 precision: 0.284 recall: 0.992\n",
      "threshold: 0.03 precision: 0.291 recall: 0.984\n",
      "threshold: 0.04 precision: 0.300 recall: 0.984\n",
      "threshold: 0.05 precision: 0.305 recall: 0.976\n",
      "threshold: 0.06 precision: 0.313 recall: 0.972\n",
      "threshold: 0.07 precision: 0.323 recall: 0.967\n",
      "threshold: 0.08 precision: 0.332 recall: 0.967\n",
      "threshold: 0.09 precision: 0.340 recall: 0.959\n",
      "threshold: 0.10 precision: 0.350 recall: 0.955\n",
      "threshold: 0.11 precision: 0.358 recall: 0.939\n",
      "threshold: 0.12 precision: 0.371 recall: 0.931\n",
      "threshold: 0.13 precision: 0.379 recall: 0.931\n",
      "threshold: 0.14 precision: 0.393 recall: 0.931\n",
      "threshold: 0.15 precision: 0.405 recall: 0.915\n",
      "threshold: 0.16 precision: 0.416 recall: 0.911\n",
      "threshold: 0.17 precision: 0.422 recall: 0.894\n",
      "threshold: 0.18 precision: 0.433 recall: 0.894\n",
      "threshold: 0.19 precision: 0.441 recall: 0.882\n",
      "threshold: 0.20 precision: 0.456 recall: 0.874\n",
      "threshold: 0.21 precision: 0.465 recall: 0.870\n",
      "threshold: 0.22 precision: 0.472 recall: 0.854\n",
      "threshold: 0.23 precision: 0.480 recall: 0.833\n",
      "threshold: 0.24 precision: 0.487 recall: 0.821\n",
      "threshold: 0.25 precision: 0.497 recall: 0.809\n",
      "threshold: 0.26 precision: 0.500 recall: 0.785\n",
      "threshold: 0.27 precision: 0.511 recall: 0.785\n",
      "threshold: 0.28 precision: 0.525 recall: 0.772\n",
      "threshold: 0.29 precision: 0.529 recall: 0.768\n",
      "threshold: 0.30 precision: 0.534 recall: 0.760\n",
      "threshold: 0.31 precision: 0.549 recall: 0.752\n",
      "threshold: 0.32 precision: 0.547 recall: 0.728\n",
      "threshold: 0.33 precision: 0.561 recall: 0.715\n",
      "threshold: 0.34 precision: 0.560 recall: 0.699\n",
      "threshold: 0.35 precision: 0.561 recall: 0.675\n",
      "threshold: 0.36 precision: 0.566 recall: 0.663\n",
      "threshold: 0.37 precision: 0.576 recall: 0.646\n",
      "threshold: 0.38 precision: 0.575 recall: 0.622\n",
      "threshold: 0.39 precision: 0.582 recall: 0.593\n",
      "threshold: 0.40 precision: 0.578 recall: 0.557\n",
      "threshold: 0.41 precision: 0.584 recall: 0.549\n",
      "threshold: 0.42 precision: 0.599 recall: 0.541\n",
      "threshold: 0.43 precision: 0.601 recall: 0.533\n",
      "threshold: 0.44 precision: 0.601 recall: 0.520\n",
      "threshold: 0.45 precision: 0.616 recall: 0.508\n",
      "threshold: 0.46 precision: 0.624 recall: 0.500\n",
      "threshold: 0.47 precision: 0.635 recall: 0.488\n",
      "threshold: 0.48 precision: 0.631 recall: 0.480\n",
      "threshold: 0.49 precision: 0.642 recall: 0.467\n",
      "threshold: 0.50 precision: 0.648 recall: 0.463\n",
      "threshold: 0.51 precision: 0.646 recall: 0.459\n",
      "threshold: 0.52 precision: 0.651 recall: 0.447\n",
      "threshold: 0.53 precision: 0.648 recall: 0.419\n",
      "threshold: 0.54 precision: 0.662 recall: 0.415\n",
      "threshold: 0.55 precision: 0.676 recall: 0.398\n",
      "threshold: 0.56 precision: 0.667 recall: 0.374\n",
      "threshold: 0.57 precision: 0.674 recall: 0.370\n",
      "threshold: 0.58 precision: 0.669 recall: 0.354\n",
      "threshold: 0.59 precision: 0.677 recall: 0.341\n",
      "threshold: 0.60 precision: 0.684 recall: 0.325\n",
      "threshold: 0.61 precision: 0.678 recall: 0.317\n",
      "threshold: 0.62 precision: 0.698 recall: 0.301\n",
      "threshold: 0.63 precision: 0.703 recall: 0.289\n",
      "threshold: 0.64 precision: 0.720 recall: 0.272\n",
      "threshold: 0.65 precision: 0.730 recall: 0.264\n",
      "threshold: 0.66 precision: 0.722 recall: 0.232\n",
      "threshold: 0.67 precision: 0.724 recall: 0.224\n",
      "threshold: 0.68 precision: 0.720 recall: 0.220\n",
      "threshold: 0.69 precision: 0.736 recall: 0.215\n",
      "threshold: 0.70 precision: 0.739 recall: 0.207\n",
      "threshold: 0.71 precision: 0.724 recall: 0.171\n",
      "threshold: 0.72 precision: 0.722 recall: 0.159\n",
      "threshold: 0.73 precision: 0.720 recall: 0.146\n",
      "threshold: 0.74 precision: 0.708 recall: 0.138\n",
      "threshold: 0.75 precision: 0.711 recall: 0.130\n",
      "threshold: 0.76 precision: 0.690 recall: 0.118\n",
      "threshold: 0.77 precision: 0.737 recall: 0.114\n",
      "threshold: 0.78 precision: 0.722 recall: 0.106\n",
      "threshold: 0.79 precision: 0.719 recall: 0.093\n",
      "threshold: 0.80 precision: 0.767 recall: 0.093\n",
      "threshold: 0.81 precision: 0.786 recall: 0.089\n",
      "threshold: 0.82 precision: 0.815 recall: 0.089\n",
      "threshold: 0.83 precision: 0.840 recall: 0.085\n",
      "threshold: 0.84 precision: 0.857 recall: 0.073\n",
      "threshold: 0.85 precision: 0.842 recall: 0.065\n",
      "threshold: 0.86 precision: 0.800 recall: 0.049\n",
      "threshold: 0.87 precision: 0.786 recall: 0.045\n",
      "threshold: 0.88 precision: 0.769 recall: 0.041\n",
      "threshold: 0.89 precision: 0.750 recall: 0.037\n",
      "threshold: 0.90 precision: 0.818 recall: 0.037\n",
      "threshold: 0.91 precision: 0.875 recall: 0.028\n",
      "threshold: 0.92 precision: 0.833 recall: 0.020\n",
      "threshold: 0.93 precision: 0.750 recall: 0.012\n",
      "threshold: 0.94 precision: 1.000 recall: 0.012\n",
      "threshold: 0.95 precision: 1.000 recall: 0.004\n",
      "threshold: 0.96 precision: 1.000 recall: 0.004\n",
      "threshold: 0.97 precision: 1.000 recall: 0.004\n",
      "threshold: 0.98 precision: 1.000 recall: 0.004\n",
      "threshold: 0.99 precision: 1.000 recall: 0.004\n",
      "threshold: 1.00 precision: nan recall: 0.000\n"
     ]
    },
    {
     "name": "stderr",
     "output_type": "stream",
     "text": [
      "/home/fool/anaconda3/lib/python3.7/site-packages/ipykernel_launcher.py:17: RuntimeWarning: invalid value encountered in long_scalars\n"
     ]
    }
   ],
   "source": [
    "thresholds = np.linspace(0, 1, 101)\n",
    "\n",
    "precision = []\n",
    "recall = []\n",
    "\n",
    "for t in thresholds:\n",
    "    \n",
    "    actual_positive = (y_val == 1)\n",
    "    actual_negative = (y_val == 0)\n",
    "    predict_positive = (y_pred >= t)\n",
    "    predict_negative = (y_pred < t)\n",
    "\n",
    "    tp = (predict_positive & actual_positive).sum()\n",
    "    fp = (predict_positive & actual_negative).sum()\n",
    "    fn = (predict_negative & actual_positive).sum()\n",
    "    \n",
    "    p = tp / (tp + fp)        \n",
    "    r = tp / (tp + fn)        \n",
    "    \n",
    "    print('threshold: %.2f precision: %.3f recall: %.3f' % (t, p, r))\n",
    "    \n",
    "    precision.append(p)\n",
    "    recall.append(r)  "
   ]
  },
  {
   "cell_type": "code",
   "execution_count": 38,
   "metadata": {},
   "outputs": [
    {
     "data": {
      "text/plain": [
       "[<matplotlib.lines.Line2D at 0x7fb685947ad0>]"
      ]
     },
     "execution_count": 38,
     "metadata": {},
     "output_type": "execute_result"
    },
    {
     "data": {
      "image/png": "[encoded data removed]",
      "text/plain": [
       "<Figure size 504x504 with 1 Axes>"
      ]
     },
     "metadata": {
      "needs_background": "light"
     },
     "output_type": "display_data"
    }
   ],
   "source": [
    "plt.figure(figsize=(7, 7))\n",
    "\n",
    "plt.plot(thresholds, precision)\n",
    "plt.plot(thresholds, recall)"
   ]
  },
  {
   "cell_type": "markdown",
   "metadata": {},
   "source": [
    "At which threshold precision and recall curves intersect?\n",
    "\n",
    "* 0.2\n",
    "* 0.4\n",
    "* 0.6\n",
    "* 0.8"
   ]
  },
  {
   "cell_type": "markdown",
   "metadata": {},
   "source": [
    "## Quesiton 4\n",
    "\n",
    "Precision and recall are conflicting - when one grows, the other goes down. That's why they are often combined into the F1 score - a metrics that takes into account both\n",
    "\n",
    "This is the formula for computing F1:\n",
    "\n",
    "$$F_1 = 2 \\cdot \\cfrac{P \\cdot R}{P + R}$$\n",
    "\n",
    "Where $P$ is precision and $R$ is recall.\n",
    "\n",
    "Let's compute F1 for all thresholds from 0.0 to 1.0 with increment 0.01"
   ]
  },
  {
   "cell_type": "code",
   "execution_count": 39,
   "metadata": {},
   "outputs": [
    {
     "name": "stdout",
     "output_type": "stream",
     "text": [
      "threshold: 0.00 F1 score: 0.433\n",
      "threshold: 0.01 F1 score: 0.437\n",
      "threshold: 0.02 F1 score: 0.442\n",
      "threshold: 0.03 F1 score: 0.449\n",
      "threshold: 0.04 F1 score: 0.460\n",
      "threshold: 0.05 F1 score: 0.465\n",
      "threshold: 0.06 F1 score: 0.474\n",
      "threshold: 0.07 F1 score: 0.484\n",
      "threshold: 0.08 F1 score: 0.495\n",
      "threshold: 0.09 F1 score: 0.502\n",
      "threshold: 0.10 F1 score: 0.513\n",
      "threshold: 0.11 F1 score: 0.519\n",
      "threshold: 0.12 F1 score: 0.530\n",
      "threshold: 0.13 F1 score: 0.539\n",
      "threshold: 0.14 F1 score: 0.552\n",
      "threshold: 0.15 F1 score: 0.561\n",
      "threshold: 0.16 F1 score: 0.571\n",
      "threshold: 0.17 F1 score: 0.574\n",
      "threshold: 0.18 F1 score: 0.584\n",
      "threshold: 0.19 F1 score: 0.588\n",
      "threshold: 0.20 F1 score: 0.600\n",
      "threshold: 0.21 F1 score: 0.606\n",
      "threshold: 0.22 F1 score: 0.608\n",
      "threshold: 0.23 F1 score: 0.609\n",
      "threshold: 0.24 F1 score: 0.611\n",
      "threshold: 0.25 F1 score: 0.616\n",
      "threshold: 0.26 F1 score: 0.611\n",
      "threshold: 0.27 F1 score: 0.619\n",
      "threshold: 0.28 F1 score: 0.625\n",
      "threshold: 0.29 F1 score: 0.627\n",
      "threshold: 0.30 F1 score: 0.628\n",
      "threshold: 0.31 F1 score: 0.635\n",
      "threshold: 0.32 F1 score: 0.625\n",
      "threshold: 0.33 F1 score: 0.629\n",
      "threshold: 0.34 F1 score: 0.622\n",
      "threshold: 0.35 F1 score: 0.613\n",
      "threshold: 0.36 F1 score: 0.610\n",
      "threshold: 0.37 F1 score: 0.609\n",
      "threshold: 0.38 F1 score: 0.598\n",
      "threshold: 0.39 F1 score: 0.588\n",
      "threshold: 0.40 F1 score: 0.567\n",
      "threshold: 0.41 F1 score: 0.566\n",
      "threshold: 0.42 F1 score: 0.568\n",
      "threshold: 0.43 F1 score: 0.565\n",
      "threshold: 0.44 F1 score: 0.558\n",
      "threshold: 0.45 F1 score: 0.557\n",
      "threshold: 0.46 F1 score: 0.555\n",
      "threshold: 0.47 F1 score: 0.552\n",
      "threshold: 0.48 F1 score: 0.545\n",
      "threshold: 0.49 F1 score: 0.541\n",
      "threshold: 0.50 F1 score: 0.540\n",
      "threshold: 0.51 F1 score: 0.537\n",
      "threshold: 0.52 F1 score: 0.530\n",
      "threshold: 0.53 F1 score: 0.509\n",
      "threshold: 0.54 F1 score: 0.510\n",
      "threshold: 0.55 F1 score: 0.501\n",
      "threshold: 0.56 F1 score: 0.479\n",
      "threshold: 0.57 F1 score: 0.478\n",
      "threshold: 0.58 F1 score: 0.463\n",
      "threshold: 0.59 F1 score: 0.454\n",
      "threshold: 0.60 F1 score: 0.441\n",
      "threshold: 0.61 F1 score: 0.432\n",
      "threshold: 0.62 F1 score: 0.420\n",
      "threshold: 0.63 F1 score: 0.409\n",
      "threshold: 0.64 F1 score: 0.395\n",
      "threshold: 0.65 F1 score: 0.388\n",
      "threshold: 0.66 F1 score: 0.351\n",
      "threshold: 0.67 F1 score: 0.342\n",
      "threshold: 0.68 F1 score: 0.336\n",
      "threshold: 0.69 F1 score: 0.333\n",
      "threshold: 0.70 F1 score: 0.324\n",
      "threshold: 0.71 F1 score: 0.276\n",
      "threshold: 0.72 F1 score: 0.260\n",
      "threshold: 0.73 F1 score: 0.243\n",
      "threshold: 0.74 F1 score: 0.231\n",
      "threshold: 0.75 F1 score: 0.220\n",
      "threshold: 0.76 F1 score: 0.201\n",
      "threshold: 0.77 F1 score: 0.197\n",
      "threshold: 0.78 F1 score: 0.184\n",
      "threshold: 0.79 F1 score: 0.165\n",
      "threshold: 0.80 F1 score: 0.167\n",
      "threshold: 0.81 F1 score: 0.161\n",
      "threshold: 0.82 F1 score: 0.161\n",
      "threshold: 0.83 F1 score: 0.155\n",
      "threshold: 0.84 F1 score: 0.135\n",
      "threshold: 0.85 F1 score: 0.121\n",
      "threshold: 0.86 F1 score: 0.092\n",
      "threshold: 0.87 F1 score: 0.085\n",
      "threshold: 0.88 F1 score: 0.077\n",
      "threshold: 0.89 F1 score: 0.070\n",
      "threshold: 0.90 F1 score: 0.070\n",
      "threshold: 0.91 F1 score: 0.055\n",
      "threshold: 0.92 F1 score: 0.040\n",
      "threshold: 0.93 F1 score: 0.024\n",
      "threshold: 0.94 F1 score: 0.024\n",
      "threshold: 0.95 F1 score: 0.008\n",
      "threshold: 0.96 F1 score: 0.008\n",
      "threshold: 0.97 F1 score: 0.008\n",
      "threshold: 0.98 F1 score: 0.008\n",
      "threshold: 0.99 F1 score: 0.008\n",
      "threshold: 1.00 F1 score: nan\n"
     ]
    }
   ],
   "source": [
    "fone = []\n",
    "\n",
    "for n in range(len(thresholds)):\n",
    "    f = 2*(precision[n]*recall[n]/(precision[n]+recall[n]))\n",
    "    t = thresholds[n]\n",
    "    \n",
    "    print('threshold: %.2f F1 score: %.3f' % (t, f))\n",
    "    \n",
    "    fone.append(f)"
   ]
  },
  {
   "cell_type": "code",
   "execution_count": 40,
   "metadata": {},
   "outputs": [
    {
     "data": {
      "text/plain": [
       "[<matplotlib.lines.Line2D at 0x7fb6858cb3d0>]"
      ]
     },
     "execution_count": 40,
     "metadata": {},
     "output_type": "execute_result"
    },
    {
     "data": {
      "image/png": "[encoded data removed]",
      "text/plain": [
       "<Figure size 504x504 with 1 Axes>"
      ]
     },
     "metadata": {
      "needs_background": "light"
     },
     "output_type": "display_data"
    }
   ],
   "source": [
    "plt.figure(figsize=(7, 7))\n",
    "\n",
    "plt.plot(thresholds, fone)"
   ]
  },
  {
   "cell_type": "code",
   "execution_count": 41,
   "metadata": {},
   "outputs": [
    {
     "name": "stdout",
     "output_type": "stream",
     "text": [
      "0.1 0.513\n",
      "0.3 0.628\n",
      "0.5 0.54\n",
      "0.7 0.324\n"
     ]
    }
   ],
   "source": [
    "print(thresholds[10].round(1), fone[10].round(3))\n",
    "print(thresholds[30].round(1), fone[30].round(3))\n",
    "print(thresholds[50].round(1), fone[50].round(3))\n",
    "print(thresholds[70].round(1), fone[70].round(3))"
   ]
  },
  {
   "cell_type": "markdown",
   "metadata": {},
   "source": [
    "At which threshold F1 is maximal?\n",
    "\n",
    "- 0.1\n",
    "- 0.3\n",
    "- 0.5\n",
    "- 0.7"
   ]
  },
  {
   "cell_type": "markdown",
   "metadata": {},
   "source": [
    "## Question 5\n",
    "\n",
    "\n",
    "Use the `KFold` class from Scikit-Learn to evaluate our model on 5 different folds:\n",
    "\n",
    "```\n",
    "KFold(n_splits=5, shuffle=True, random_state=1)\n",
    "```\n",
    "\n",
    "* Iterate over different folds of `df_full_train`\n",
    "* Split the data into train and validation\n",
    "* Train the model on train with these parameters: `LogisticRegression(solver='liblinear', C=1.0, max_iter=1000)`\n",
    "* Use AUC to evaluate the model on validation\n"
   ]
  },
  {
   "cell_type": "code",
   "execution_count": 42,
   "metadata": {},
   "outputs": [],
   "source": [
    "def train(df_train, y_train, C=1.0):\n",
    "    dicts = df_train[categorical2 + numerical2].to_dict(orient='records')\n",
    "\n",
    "    dv = DictVectorizer(sparse=False)\n",
    "    X_train = dv.fit_transform(dicts)\n",
    "\n",
    "    model = LogisticRegression(solver='liblinear', C=C, max_iter=1000)\n",
    "    model.fit(X_train, y_train)\n",
    "    \n",
    "    return dv, model"
   ]
  },
  {
   "cell_type": "code",
   "execution_count": 43,
   "metadata": {},
   "outputs": [],
   "source": [
    "dv, model = train(df_train, y_train, C=1.0)"
   ]
  },
  {
   "cell_type": "code",
   "execution_count": 44,
   "metadata": {},
   "outputs": [],
   "source": [
    "def predict(df, dv, model):\n",
    "    dicts = df[categorical2 + numerical2].to_dict(orient='records')\n",
    "\n",
    "    X = dv.transform(dicts)\n",
    "    y_pred = model.predict_proba(X)[:, 1]\n",
    "\n",
    "    return y_pred"
   ]
  },
  {
   "cell_type": "code",
   "execution_count": 45,
   "metadata": {},
   "outputs": [],
   "source": [
    "y_pred = predict(df_val, dv, model)"
   ]
  },
  {
   "cell_type": "code",
   "execution_count": 47,
   "metadata": {},
   "outputs": [],
   "source": [
    "kfold = KFold(n_splits=5, shuffle=True, random_state=1)\n",
    "\n",
    "scores = []\n",
    "\n",
    "for train_idx, val_idx in kfold.split(df_full_train):\n",
    "    \n",
    "    df_train = df_full_train.iloc[train_idx]\n",
    "    df_val = df_full_train.iloc[val_idx]\n",
    "\n",
    "    y_train = df_train.default.values\n",
    "    y_val = df_val.default.values\n",
    "\n",
    "    dv, model = train(df_train, y_train, C=1.0)\n",
    "    y_pred = predict(df_val, dv, model)\n",
    "\n",
    "    auc = roc_auc_score(y_val, y_pred)\n",
    "    scores.append(auc)"
   ]
  },
  {
   "cell_type": "code",
   "execution_count": 48,
   "metadata": {},
   "outputs": [
    {
     "data": {
      "text/plain": [
       "0.814"
      ]
     },
     "execution_count": 48,
     "metadata": {},
     "output_type": "execute_result"
    }
   ],
   "source": [
    "np.mean(scores).round(3)"
   ]
  },
  {
   "cell_type": "code",
   "execution_count": 49,
   "metadata": {},
   "outputs": [
    {
     "data": {
      "text/plain": [
       "0.015"
      ]
     },
     "execution_count": 49,
     "metadata": {},
     "output_type": "execute_result"
    }
   ],
   "source": [
    "np.std(scores).round(3)"
   ]
  },
  {
   "cell_type": "markdown",
   "metadata": {},
   "source": [
    "How large is standard devidation of the scores across different folds?\n",
    "\n",
    "- 0.001\n",
    "- 0.014\n",
    "- 0.09\n",
    "- 0.14"
   ]
  },
  {
   "cell_type": "markdown",
   "metadata": {},
   "source": [
    "## Question 6\n",
    "\n",
    "Now let's use 5-Fold cross-validation to find the best parameter C\n",
    "\n",
    "* Iterate over the following C values: `[0.01, 0.1, 1, 10]`\n",
    "* Use these parametes for the model: `LogisticRegression(solver='liblinear', C=C, max_iter=1000)`\n",
    "* Compute the mean score as well as the std"
   ]
  },
  {
   "cell_type": "code",
   "execution_count": 50,
   "metadata": {},
   "outputs": [
    {
     "data": {
      "application/vnd.jupyter.widget-view+json": {
       "model_id": "d65ff0bcc63648b786276af79c0b7f79",
       "version_major": 2,
       "version_minor": 0
      },
      "text/plain": [
       "  0%|          | 0/4 [00:00<?, ?it/s]"
      ]
     },
     "metadata": {},
     "output_type": "display_data"
    },
    {
     "name": "stdout",
     "output_type": "stream",
     "text": [
      "C=0.01 0.809 +- 0.013\n",
      "C=0.1 0.813 +- 0.014\n",
      "C=1 0.814 +- 0.015\n",
      "C=10 0.812 +- 0.014\n"
     ]
    }
   ],
   "source": [
    "n_splits = 5\n",
    "\n",
    "for C in tqdm([0.01, 0.1, 1, 10]):\n",
    "    kfold = KFold(n_splits=n_splits, shuffle=True, random_state=1)\n",
    "\n",
    "    scores = []\n",
    "\n",
    "    for train_idx, val_idx in kfold.split(df_full_train):\n",
    "        df_train = df_full_train.iloc[train_idx]\n",
    "        df_val = df_full_train.iloc[val_idx]\n",
    "\n",
    "        y_train = df_train.default.values\n",
    "        y_val = df_val.default.values\n",
    "\n",
    "        dv, model = train(df_train, y_train, C=C)\n",
    "        y_pred = predict(df_val, dv, model)\n",
    "\n",
    "        auc = roc_auc_score(y_val, y_pred)\n",
    "        scores.append(auc)\n",
    "\n",
    "    print('C=%s %.3f +- %.3f' % (C, np.mean(scores), np.std(scores)))"
   ]
  },
  {
   "cell_type": "markdown",
   "metadata": {},
   "source": [
    "Which C leads to the best mean score?\n",
    "\n",
    "- 0.01\n",
    "- 0.1\n",
    "- 1\n",
    "- 10\n",
    "\n",
    "If you have ties, select the score with the lowest std. If you still have ties, select the smallest C"
   ]
  },
  {
   "cell_type": "markdown",
   "metadata": {},
   "source": [
    "## Submit the results\n",
    "\n",
    "Submit your results here: https://forms.gle/e497sR5iB36mM9Cs5\n",
    "\n",
    "It's possible that your answers won't match exactly. If it's the case, select the closest one.\n",
    "\n",
    "## Deadline\n",
    "\n",
    "The deadline for submitting is 04 October 2021, 17:00 CET. After that, the form will be closed."
   ]
  },
  {
   "cell_type": "code",
   "execution_count": null,
   "metadata": {},
   "outputs": [],
   "source": []
  }
 ],
 "metadata": {
  "kernelspec": {
   "display_name": "Python 3 (ipykernel)",
   "language": "python",
   "name": "python3"
  },
  "language_info": {
   "codemirror_mode": {
    "name": "ipython",
    "version": 3
   },
   "file_extension": ".py",
   "mimetype": "text/x-python",
   "name": "python",
   "nbconvert_exporter": "python",
   "pygments_lexer": "ipython3",
   "version": "3.7.10"
  }
 },
 "nbformat": 4,
 "nbformat_minor": 4
}
