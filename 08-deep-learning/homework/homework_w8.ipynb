{
 "cells": [
  {
   "cell_type": "code",
   "execution_count": null,
   "metadata": {},
   "outputs": [],
   "source": [
    "import os\n",
    "import shutil\n",
    "\n",
    "# !mkdir -p ./train/cat\n",
    "# !mkdir -p ./train/dog\n",
    "# !mkdir -p ./validation\n",
    "# !mkdir -p ./validation/cat\n",
    "# !mkdir -p ./validation/dog\n",
    "\n",
    "train_dir = './train'\n",
    "train_dir_cat = './train/cat'\n",
    "train_dir_dog = './train/dog'\n",
    "val_dir = './validation'\n",
    "val_dir_cat = './validation/cat'\n",
    "val_dir_dog = './validation/dog'\n",
    "\n",
    "# separate into dogs and cats and train and validation\n",
    "cat_count = 0\n",
    "dog_count = 0\n",
    "for filename in os.listdir(train_dir):\n",
    "    if os.path.isfile(filename):\n",
    "        if filename.startswith(\"cat\"):\n",
    "            if cat_count < 10000:\n",
    "                shutil.move(os.path.join(train_dir, filename), train_dir_cat)\n",
    "            else:\n",
    "                shutil.move(os.path.join(train_dir, filename), val_dir_cat)\n",
    "            cat_count += 1\n",
    "        elif filename.startswith(\"dog\"):\n",
    "            if dog_count < 10000:\n",
    "                shutil.move(os.path.join(train_dir,filename), train_dir_dog)\n",
    "            else:\n",
    "                shutil.move(os.path.join(train_dir, filename), val_dir_dog)\n",
    "            dog_count += 1\n",
    "        else:\n",
    "            continue\n",
    "\n",
    "print('Number of images:', len(os.listdir(train_dir_cat)))\n",
    "print('Number of images:', len(os.listdir(train_dir_dog)))\n",
    "print('Number of images:', len(os.listdir(val_dir_cat)))\n",
    "print('Number of images:', len(os.listdir(val_dir_dog)))\n"
   ]
  },
  {
   "cell_type": "code",
   "execution_count": null,
   "metadata": {},
   "outputs": [],
   "source": [
    "# Try to use shutil.move \n",
    "# without specifying filename in destination param, e.g.:\n",
    "\n",
    "shutil.move(os.path.join(train_dir, filename), train_dir_cat)"
   ]
  },
  {
   "cell_type": "code",
   "execution_count": null,
   "metadata": {},
   "outputs": [],
   "source": []
  },
  {
   "cell_type": "code",
   "execution_count": null,
   "metadata": {},
   "outputs": [],
   "source": []
  }
 ],
 "metadata": {
  "language_info": {
   "name": "python"
  },
  "orig_nbformat": 4
 },
 "nbformat": 4,
 "nbformat_minor": 2
}
