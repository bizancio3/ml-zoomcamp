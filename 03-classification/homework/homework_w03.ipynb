{
 "cells": [
  {
   "cell_type": "code",
   "execution_count": 1,
   "id": "065c2a3e",
   "metadata": {},
   "outputs": [
    {
     "data": {
      "application/javascript": [
       "IPython.notebook.set_autosave_interval(0)"
      ]
     },
     "metadata": {},
     "output_type": "display_data"
    },
    {
     "name": "stdout",
     "output_type": "stream",
     "text": [
      "Autosave disabled\n"
     ]
    }
   ],
   "source": [
    "%autosave 0"
   ]
  },
  {
   "cell_type": "code",
   "execution_count": 2,
   "id": "390e2dc8",
   "metadata": {},
   "outputs": [],
   "source": [
    "import pandas as pd\n",
    "import numpy as np\n",
    "import matplotlib.pyplot as plt\n",
    "import seaborn as sns\n",
    "\n",
    "%matplotlib inline\n",
    "\n",
    "import warnings\n",
    "warnings.filterwarnings(\"ignore\")\n",
    "\n",
    "from sklearn.model_selection import train_test_split\n",
    "from sklearn.metrics import mutual_info_score\n",
    "from sklearn.feature_extraction import DictVectorizer\n",
    "from sklearn.linear_model import LogisticRegression\n",
    "from sklearn.linear_model import Ridge\n",
    "from sklearn.metrics import accuracy_score\n",
    "from sklearn.metrics import confusion_matrix\n",
    "from sklearn.metrics import mean_squared_error"
   ]
  },
  {
   "cell_type": "code",
   "execution_count": 3,
   "id": "40f6e9b9",
   "metadata": {},
   "outputs": [],
   "source": [
    "data = 'https://raw.githubusercontent.com/alexeygrigorev/datasets/master/AB_NYC_2019.csv'"
   ]
  },
  {
   "cell_type": "code",
   "execution_count": 4,
   "id": "04630241",
   "metadata": {},
   "outputs": [
    {
     "name": "stdout",
     "output_type": "stream",
     "text": [
      "--2021-09-25 19:33:58--  https://raw.githubusercontent.com/alexeygrigorev/datasets/master/AB_NYC_2019.csv\n",
      "Resolving raw.githubusercontent.com (raw.githubusercontent.com)... 185.199.111.133, 185.199.109.133, 185.199.108.133, ...\n",
      "Connecting to raw.githubusercontent.com (raw.githubusercontent.com)|185.199.111.133|:443... connected.\n",
      "HTTP request sent, awaiting response... 200 OK\n",
      "Length: 7077973 (6.8M) [text/plain]\n",
      "Saving to: ‘AB_NYC_2019.csv’\n",
      "\n",
      "AB_NYC_2019.csv     100%[===================>]   6.75M  3.10MB/s    in 2.2s    \n",
      "\n",
      "2021-09-25 19:34:00 (3.10 MB/s) - ‘AB_NYC_2019.csv’ saved [7077973/7077973]\n",
      "\n"
     ]
    }
   ],
   "source": [
    "!wget $data -O AB_NYC_2019.csv"
   ]
  },
  {
   "cell_type": "code",
   "execution_count": 5,
   "id": "15534e1a",
   "metadata": {},
   "outputs": [],
   "source": [
    "usecols = [\n",
    "    'neighbourhood_group', \n",
    "    'room_type',\n",
    "    'latitude',\n",
    "    'longitude',\n",
    "    'price',\n",
    "    'minimum_nights',\n",
    "    'number_of_reviews',\n",
    "    'reviews_per_month',\n",
    "    'calculated_host_listings_count',\n",
    "    'availability_365'\n",
    "]"
   ]
  },
  {
   "cell_type": "code",
   "execution_count": 6,
   "id": "e6ef750a",
   "metadata": {},
   "outputs": [
    {
     "data": {
      "text/html": [
       "<div>\n",
       "<style scoped>\n",
       "    .dataframe tbody tr th:only-of-type {\n",
       "        vertical-align: middle;\n",
       "    }\n",
       "\n",
       "    .dataframe tbody tr th {\n",
       "        vertical-align: top;\n",
       "    }\n",
       "\n",
       "    .dataframe thead th {\n",
       "        text-align: right;\n",
       "    }\n",
       "</style>\n",
       "<table border=\"1\" class=\"dataframe\">\n",
       "  <thead>\n",
       "    <tr style=\"text-align: right;\">\n",
       "      <th></th>\n",
       "      <th>0</th>\n",
       "      <th>1</th>\n",
       "      <th>2</th>\n",
       "      <th>3</th>\n",
       "      <th>4</th>\n",
       "      <th>5</th>\n",
       "      <th>6</th>\n",
       "      <th>7</th>\n",
       "      <th>8</th>\n",
       "      <th>9</th>\n",
       "    </tr>\n",
       "  </thead>\n",
       "  <tbody>\n",
       "    <tr>\n",
       "      <th>neighbourhood_group</th>\n",
       "      <td>Brooklyn</td>\n",
       "      <td>Manhattan</td>\n",
       "      <td>Manhattan</td>\n",
       "      <td>Brooklyn</td>\n",
       "      <td>Manhattan</td>\n",
       "      <td>Manhattan</td>\n",
       "      <td>Brooklyn</td>\n",
       "      <td>Manhattan</td>\n",
       "      <td>Manhattan</td>\n",
       "      <td>Manhattan</td>\n",
       "    </tr>\n",
       "    <tr>\n",
       "      <th>latitude</th>\n",
       "      <td>40.64749</td>\n",
       "      <td>40.75362</td>\n",
       "      <td>40.80902</td>\n",
       "      <td>40.68514</td>\n",
       "      <td>40.79851</td>\n",
       "      <td>40.74767</td>\n",
       "      <td>40.68688</td>\n",
       "      <td>40.76489</td>\n",
       "      <td>40.80178</td>\n",
       "      <td>40.71344</td>\n",
       "    </tr>\n",
       "    <tr>\n",
       "      <th>longitude</th>\n",
       "      <td>-73.97237</td>\n",
       "      <td>-73.98377</td>\n",
       "      <td>-73.9419</td>\n",
       "      <td>-73.95976</td>\n",
       "      <td>-73.94399</td>\n",
       "      <td>-73.975</td>\n",
       "      <td>-73.95596</td>\n",
       "      <td>-73.98493</td>\n",
       "      <td>-73.96723</td>\n",
       "      <td>-73.99037</td>\n",
       "    </tr>\n",
       "    <tr>\n",
       "      <th>room_type</th>\n",
       "      <td>Private room</td>\n",
       "      <td>Entire home/apt</td>\n",
       "      <td>Private room</td>\n",
       "      <td>Entire home/apt</td>\n",
       "      <td>Entire home/apt</td>\n",
       "      <td>Entire home/apt</td>\n",
       "      <td>Private room</td>\n",
       "      <td>Private room</td>\n",
       "      <td>Private room</td>\n",
       "      <td>Entire home/apt</td>\n",
       "    </tr>\n",
       "    <tr>\n",
       "      <th>price</th>\n",
       "      <td>149</td>\n",
       "      <td>225</td>\n",
       "      <td>150</td>\n",
       "      <td>89</td>\n",
       "      <td>80</td>\n",
       "      <td>200</td>\n",
       "      <td>60</td>\n",
       "      <td>79</td>\n",
       "      <td>79</td>\n",
       "      <td>150</td>\n",
       "    </tr>\n",
       "    <tr>\n",
       "      <th>minimum_nights</th>\n",
       "      <td>1</td>\n",
       "      <td>1</td>\n",
       "      <td>3</td>\n",
       "      <td>1</td>\n",
       "      <td>10</td>\n",
       "      <td>3</td>\n",
       "      <td>45</td>\n",
       "      <td>2</td>\n",
       "      <td>2</td>\n",
       "      <td>1</td>\n",
       "    </tr>\n",
       "    <tr>\n",
       "      <th>number_of_reviews</th>\n",
       "      <td>9</td>\n",
       "      <td>45</td>\n",
       "      <td>0</td>\n",
       "      <td>270</td>\n",
       "      <td>9</td>\n",
       "      <td>74</td>\n",
       "      <td>49</td>\n",
       "      <td>430</td>\n",
       "      <td>118</td>\n",
       "      <td>160</td>\n",
       "    </tr>\n",
       "    <tr>\n",
       "      <th>reviews_per_month</th>\n",
       "      <td>0.21</td>\n",
       "      <td>0.38</td>\n",
       "      <td>NaN</td>\n",
       "      <td>4.64</td>\n",
       "      <td>0.1</td>\n",
       "      <td>0.59</td>\n",
       "      <td>0.4</td>\n",
       "      <td>3.47</td>\n",
       "      <td>0.99</td>\n",
       "      <td>1.33</td>\n",
       "    </tr>\n",
       "    <tr>\n",
       "      <th>calculated_host_listings_count</th>\n",
       "      <td>6</td>\n",
       "      <td>2</td>\n",
       "      <td>1</td>\n",
       "      <td>1</td>\n",
       "      <td>1</td>\n",
       "      <td>1</td>\n",
       "      <td>1</td>\n",
       "      <td>1</td>\n",
       "      <td>1</td>\n",
       "      <td>4</td>\n",
       "    </tr>\n",
       "    <tr>\n",
       "      <th>availability_365</th>\n",
       "      <td>365</td>\n",
       "      <td>355</td>\n",
       "      <td>365</td>\n",
       "      <td>194</td>\n",
       "      <td>0</td>\n",
       "      <td>129</td>\n",
       "      <td>0</td>\n",
       "      <td>220</td>\n",
       "      <td>0</td>\n",
       "      <td>188</td>\n",
       "    </tr>\n",
       "  </tbody>\n",
       "</table>\n",
       "</div>"
      ],
      "text/plain": [
       "                                           0                1             2  \\\n",
       "neighbourhood_group                 Brooklyn        Manhattan     Manhattan   \n",
       "latitude                            40.64749         40.75362      40.80902   \n",
       "longitude                          -73.97237        -73.98377      -73.9419   \n",
       "room_type                       Private room  Entire home/apt  Private room   \n",
       "price                                    149              225           150   \n",
       "minimum_nights                             1                1             3   \n",
       "number_of_reviews                          9               45             0   \n",
       "reviews_per_month                       0.21             0.38           NaN   \n",
       "calculated_host_listings_count             6                2             1   \n",
       "availability_365                         365              355           365   \n",
       "\n",
       "                                              3                4  \\\n",
       "neighbourhood_group                    Brooklyn        Manhattan   \n",
       "latitude                               40.68514         40.79851   \n",
       "longitude                             -73.95976        -73.94399   \n",
       "room_type                       Entire home/apt  Entire home/apt   \n",
       "price                                        89               80   \n",
       "minimum_nights                                1               10   \n",
       "number_of_reviews                           270                9   \n",
       "reviews_per_month                          4.64              0.1   \n",
       "calculated_host_listings_count                1                1   \n",
       "availability_365                            194                0   \n",
       "\n",
       "                                              5             6             7  \\\n",
       "neighbourhood_group                   Manhattan      Brooklyn     Manhattan   \n",
       "latitude                               40.74767      40.68688      40.76489   \n",
       "longitude                               -73.975     -73.95596     -73.98493   \n",
       "room_type                       Entire home/apt  Private room  Private room   \n",
       "price                                       200            60            79   \n",
       "minimum_nights                                3            45             2   \n",
       "number_of_reviews                            74            49           430   \n",
       "reviews_per_month                          0.59           0.4          3.47   \n",
       "calculated_host_listings_count                1             1             1   \n",
       "availability_365                            129             0           220   \n",
       "\n",
       "                                           8                9  \n",
       "neighbourhood_group                Manhattan        Manhattan  \n",
       "latitude                            40.80178         40.71344  \n",
       "longitude                          -73.96723        -73.99037  \n",
       "room_type                       Private room  Entire home/apt  \n",
       "price                                     79              150  \n",
       "minimum_nights                             2                1  \n",
       "number_of_reviews                        118              160  \n",
       "reviews_per_month                       0.99             1.33  \n",
       "calculated_host_listings_count             1                4  \n",
       "availability_365                           0              188  "
      ]
     },
     "execution_count": 6,
     "metadata": {},
     "output_type": "execute_result"
    }
   ],
   "source": [
    "df = pd.read_csv('AB_NYC_2019.csv', usecols=usecols)\n",
    "df.head(10).T"
   ]
  },
  {
   "cell_type": "code",
   "execution_count": 7,
   "id": "a97ca33b",
   "metadata": {},
   "outputs": [
    {
     "data": {
      "text/plain": [
       "neighbourhood_group               False\n",
       "latitude                          False\n",
       "longitude                         False\n",
       "room_type                         False\n",
       "price                             False\n",
       "minimum_nights                    False\n",
       "number_of_reviews                 False\n",
       "reviews_per_month                  True\n",
       "calculated_host_listings_count    False\n",
       "availability_365                  False\n",
       "dtype: bool"
      ]
     },
     "execution_count": 7,
     "metadata": {},
     "output_type": "execute_result"
    }
   ],
   "source": [
    "df.isna().any()"
   ]
  },
  {
   "cell_type": "code",
   "execution_count": 8,
   "id": "9fa46540",
   "metadata": {},
   "outputs": [
    {
     "data": {
      "text/plain": [
       "10052"
      ]
     },
     "execution_count": 8,
     "metadata": {},
     "output_type": "execute_result"
    }
   ],
   "source": [
    "df.reviews_per_month.isnull().sum()"
   ]
  },
  {
   "cell_type": "code",
   "execution_count": 9,
   "id": "479aaba6",
   "metadata": {},
   "outputs": [
    {
     "name": "stdout",
     "output_type": "stream",
     "text": [
      "<class 'pandas.core.frame.DataFrame'>\n",
      "RangeIndex: 48895 entries, 0 to 48894\n",
      "Data columns (total 10 columns):\n",
      " #   Column                          Non-Null Count  Dtype  \n",
      "---  ------                          --------------  -----  \n",
      " 0   neighbourhood_group             48895 non-null  object \n",
      " 1   latitude                        48895 non-null  float64\n",
      " 2   longitude                       48895 non-null  float64\n",
      " 3   room_type                       48895 non-null  object \n",
      " 4   price                           48895 non-null  int64  \n",
      " 5   minimum_nights                  48895 non-null  int64  \n",
      " 6   number_of_reviews               48895 non-null  int64  \n",
      " 7   reviews_per_month               48895 non-null  float64\n",
      " 8   calculated_host_listings_count  48895 non-null  int64  \n",
      " 9   availability_365                48895 non-null  int64  \n",
      "dtypes: float64(3), int64(5), object(2)\n",
      "memory usage: 3.7+ MB\n"
     ]
    }
   ],
   "source": [
    "df.reviews_per_month = df.reviews_per_month.fillna(0)\n",
    "df.info()"
   ]
  },
  {
   "cell_type": "code",
   "execution_count": 10,
   "id": "007c88d4",
   "metadata": {},
   "outputs": [
    {
     "name": "stdout",
     "output_type": "stream",
     "text": [
      "(48895, 10)\n"
     ]
    },
    {
     "data": {
      "text/plain": [
       "False    48895\n",
       "dtype: int64"
      ]
     },
     "execution_count": 10,
     "metadata": {},
     "output_type": "execute_result"
    }
   ],
   "source": [
    "print(df.shape)\n",
    "df.duplicated().value_counts()"
   ]
  },
  {
   "cell_type": "code",
   "execution_count": 11,
   "id": "71928103",
   "metadata": {
    "scrolled": false
   },
   "outputs": [
    {
     "data": {
      "text/html": [
       "<div>\n",
       "<style scoped>\n",
       "    .dataframe tbody tr th:only-of-type {\n",
       "        vertical-align: middle;\n",
       "    }\n",
       "\n",
       "    .dataframe tbody tr th {\n",
       "        vertical-align: top;\n",
       "    }\n",
       "\n",
       "    .dataframe thead th {\n",
       "        text-align: right;\n",
       "    }\n",
       "</style>\n",
       "<table border=\"1\" class=\"dataframe\">\n",
       "  <thead>\n",
       "    <tr style=\"text-align: right;\">\n",
       "      <th></th>\n",
       "      <th>count</th>\n",
       "      <th>mean</th>\n",
       "      <th>std</th>\n",
       "      <th>min</th>\n",
       "      <th>25%</th>\n",
       "      <th>50%</th>\n",
       "      <th>75%</th>\n",
       "      <th>max</th>\n",
       "    </tr>\n",
       "  </thead>\n",
       "  <tbody>\n",
       "    <tr>\n",
       "      <th>latitude</th>\n",
       "      <td>48895.0</td>\n",
       "      <td>40.728949</td>\n",
       "      <td>0.054530</td>\n",
       "      <td>40.49979</td>\n",
       "      <td>40.69010</td>\n",
       "      <td>40.72307</td>\n",
       "      <td>40.763115</td>\n",
       "      <td>40.91306</td>\n",
       "    </tr>\n",
       "    <tr>\n",
       "      <th>longitude</th>\n",
       "      <td>48895.0</td>\n",
       "      <td>-73.952170</td>\n",
       "      <td>0.046157</td>\n",
       "      <td>-74.24442</td>\n",
       "      <td>-73.98307</td>\n",
       "      <td>-73.95568</td>\n",
       "      <td>-73.936275</td>\n",
       "      <td>-73.71299</td>\n",
       "    </tr>\n",
       "    <tr>\n",
       "      <th>price</th>\n",
       "      <td>48895.0</td>\n",
       "      <td>152.720687</td>\n",
       "      <td>240.154170</td>\n",
       "      <td>0.00000</td>\n",
       "      <td>69.00000</td>\n",
       "      <td>106.00000</td>\n",
       "      <td>175.000000</td>\n",
       "      <td>10000.00000</td>\n",
       "    </tr>\n",
       "    <tr>\n",
       "      <th>minimum_nights</th>\n",
       "      <td>48895.0</td>\n",
       "      <td>7.029962</td>\n",
       "      <td>20.510550</td>\n",
       "      <td>1.00000</td>\n",
       "      <td>1.00000</td>\n",
       "      <td>3.00000</td>\n",
       "      <td>5.000000</td>\n",
       "      <td>1250.00000</td>\n",
       "    </tr>\n",
       "    <tr>\n",
       "      <th>number_of_reviews</th>\n",
       "      <td>48895.0</td>\n",
       "      <td>23.274466</td>\n",
       "      <td>44.550582</td>\n",
       "      <td>0.00000</td>\n",
       "      <td>1.00000</td>\n",
       "      <td>5.00000</td>\n",
       "      <td>24.000000</td>\n",
       "      <td>629.00000</td>\n",
       "    </tr>\n",
       "    <tr>\n",
       "      <th>reviews_per_month</th>\n",
       "      <td>48895.0</td>\n",
       "      <td>1.090910</td>\n",
       "      <td>1.597283</td>\n",
       "      <td>0.00000</td>\n",
       "      <td>0.04000</td>\n",
       "      <td>0.37000</td>\n",
       "      <td>1.580000</td>\n",
       "      <td>58.50000</td>\n",
       "    </tr>\n",
       "    <tr>\n",
       "      <th>calculated_host_listings_count</th>\n",
       "      <td>48895.0</td>\n",
       "      <td>7.143982</td>\n",
       "      <td>32.952519</td>\n",
       "      <td>1.00000</td>\n",
       "      <td>1.00000</td>\n",
       "      <td>1.00000</td>\n",
       "      <td>2.000000</td>\n",
       "      <td>327.00000</td>\n",
       "    </tr>\n",
       "    <tr>\n",
       "      <th>availability_365</th>\n",
       "      <td>48895.0</td>\n",
       "      <td>112.781327</td>\n",
       "      <td>131.622289</td>\n",
       "      <td>0.00000</td>\n",
       "      <td>0.00000</td>\n",
       "      <td>45.00000</td>\n",
       "      <td>227.000000</td>\n",
       "      <td>365.00000</td>\n",
       "    </tr>\n",
       "  </tbody>\n",
       "</table>\n",
       "</div>"
      ],
      "text/plain": [
       "                                  count        mean         std       min  \\\n",
       "latitude                        48895.0   40.728949    0.054530  40.49979   \n",
       "longitude                       48895.0  -73.952170    0.046157 -74.24442   \n",
       "price                           48895.0  152.720687  240.154170   0.00000   \n",
       "minimum_nights                  48895.0    7.029962   20.510550   1.00000   \n",
       "number_of_reviews               48895.0   23.274466   44.550582   0.00000   \n",
       "reviews_per_month               48895.0    1.090910    1.597283   0.00000   \n",
       "calculated_host_listings_count  48895.0    7.143982   32.952519   1.00000   \n",
       "availability_365                48895.0  112.781327  131.622289   0.00000   \n",
       "\n",
       "                                     25%        50%         75%          max  \n",
       "latitude                        40.69010   40.72307   40.763115     40.91306  \n",
       "longitude                      -73.98307  -73.95568  -73.936275    -73.71299  \n",
       "price                           69.00000  106.00000  175.000000  10000.00000  \n",
       "minimum_nights                   1.00000    3.00000    5.000000   1250.00000  \n",
       "number_of_reviews                1.00000    5.00000   24.000000    629.00000  \n",
       "reviews_per_month                0.04000    0.37000    1.580000     58.50000  \n",
       "calculated_host_listings_count   1.00000    1.00000    2.000000    327.00000  \n",
       "availability_365                 0.00000   45.00000  227.000000    365.00000  "
      ]
     },
     "execution_count": 11,
     "metadata": {},
     "output_type": "execute_result"
    }
   ],
   "source": [
    "df.describe().T"
   ]
  },
  {
   "cell_type": "code",
   "execution_count": 12,
   "id": "3a6c2120",
   "metadata": {},
   "outputs": [
    {
     "data": {
      "image/png": "[encoded data removed]",
      "text/plain": [
       "<Figure size 1080x720 with 9 Axes>"
      ]
     },
     "metadata": {
      "needs_background": "light"
     },
     "output_type": "display_data"
    }
   ],
   "source": [
    "fig = plt.figure(figsize=(15,10))\n",
    "ax = plt.gca()\n",
    "df.hist(bins=100, ax=ax, layout=(3, 3), column=['price', 'minimum_nights','number_of_reviews','reviews_per_month','calculated_host_listings_count','availability_365'])\n",
    "plt.tight_layout()\n",
    "plt.show()"
   ]
  },
  {
   "cell_type": "code",
   "execution_count": 13,
   "id": "fea80578",
   "metadata": {
    "scrolled": true
   },
   "outputs": [
    {
     "data": {
      "text/plain": [
       "<AxesSubplot:xlabel='price', ylabel='Density'>"
      ]
     },
     "execution_count": 13,
     "metadata": {},
     "output_type": "execute_result"
    },
    {
     "data": {
      "image/png": "[encoded data removed]",
      "text/plain": [
       "<Figure size 432x288 with 1 Axes>"
      ]
     },
     "metadata": {
      "needs_background": "light"
     },
     "output_type": "display_data"
    }
   ],
   "source": [
    "sns.distplot(df.price)"
   ]
  },
  {
   "cell_type": "code",
   "execution_count": 14,
   "id": "d72d82e6",
   "metadata": {
    "scrolled": true
   },
   "outputs": [
    {
     "data": {
      "text/plain": [
       "<AxesSubplot:xlabel='price', ylabel='Density'>"
      ]
     },
     "execution_count": 14,
     "metadata": {},
     "output_type": "execute_result"
    },
    {
     "data": {
      "image/png": "[encoded data removed]",
      "text/plain": [
       "<Figure size 432x288 with 1 Axes>"
      ]
     },
     "metadata": {
      "needs_background": "light"
     },
     "output_type": "display_data"
    }
   ],
   "source": [
    "sns.distplot(np.log1p(df.price))"
   ]
  },
  {
   "cell_type": "markdown",
   "id": "1c26bfd7",
   "metadata": {},
   "source": [
    "## question 1"
   ]
  },
  {
   "cell_type": "code",
   "execution_count": 15,
   "id": "b38f0a17",
   "metadata": {},
   "outputs": [
    {
     "data": {
      "text/plain": [
       "5"
      ]
     },
     "execution_count": 15,
     "metadata": {},
     "output_type": "execute_result"
    }
   ],
   "source": [
    "df.neighbourhood_group.nunique()"
   ]
  },
  {
   "cell_type": "code",
   "execution_count": 16,
   "id": "d6af29fd",
   "metadata": {},
   "outputs": [
    {
     "data": {
      "text/plain": [
       "neighbourhood_group\n",
       "Bronx             1091\n",
       "Brooklyn         20104\n",
       "Manhattan        21661\n",
       "Queens            5666\n",
       "Staten Island      373\n",
       "dtype: int64"
      ]
     },
     "execution_count": 16,
     "metadata": {},
     "output_type": "execute_result"
    }
   ],
   "source": [
    "df.groupby(['neighbourhood_group']).size()"
   ]
  },
  {
   "cell_type": "code",
   "execution_count": 17,
   "id": "81c7e921",
   "metadata": {},
   "outputs": [
    {
     "data": {
      "text/plain": [
       "21661"
      ]
     },
     "execution_count": 17,
     "metadata": {},
     "output_type": "execute_result"
    }
   ],
   "source": [
    "df.groupby(['neighbourhood_group']).size().max()"
   ]
  },
  {
   "cell_type": "markdown",
   "id": "c40ff6b5",
   "metadata": {},
   "source": [
    "## splitting the data"
   ]
  },
  {
   "cell_type": "code",
   "execution_count": 18,
   "id": "3099ec14",
   "metadata": {},
   "outputs": [],
   "source": [
    "df_full_train, df_test = train_test_split(\n",
    "    df, \n",
    "    test_size=0.2, \n",
    "    random_state=42\n",
    ")\n",
    "df_train, df_val = train_test_split(\n",
    "    df_full_train, \n",
    "    test_size=0.25, \n",
    "    random_state=42\n",
    ")"
   ]
  },
  {
   "cell_type": "code",
   "execution_count": 19,
   "id": "c953ce58",
   "metadata": {},
   "outputs": [
    {
     "data": {
      "text/plain": [
       "(29337, 9779, 9779)"
      ]
     },
     "execution_count": 19,
     "metadata": {},
     "output_type": "execute_result"
    }
   ],
   "source": [
    "len(df_train), len(df_val), len(df_test)"
   ]
  },
  {
   "cell_type": "code",
   "execution_count": 20,
   "id": "23b6304f",
   "metadata": {},
   "outputs": [],
   "source": [
    "df_train = df_train.reset_index(drop=True)\n",
    "df_val = df_val.reset_index(drop=True)\n",
    "df_test = df_test.reset_index(drop=True)"
   ]
  },
  {
   "cell_type": "code",
   "execution_count": 21,
   "id": "059f5273",
   "metadata": {},
   "outputs": [],
   "source": [
    "y_train = df_train.price.values\n",
    "y_val = df_val.price.values\n",
    "y_test = df_test.price.values\n",
    "\n",
    "del df_train['price']\n",
    "del df_val['price']\n",
    "del df_test['price']"
   ]
  },
  {
   "cell_type": "markdown",
   "id": "a3ddc1a3",
   "metadata": {},
   "source": [
    "## question 2"
   ]
  },
  {
   "cell_type": "code",
   "execution_count": 22,
   "id": "7becd142",
   "metadata": {},
   "outputs": [],
   "source": [
    "numerical = [\n",
    "    'latitude', \n",
    "    'longitude', \n",
    "    'minimum_nights',\n",
    "    'number_of_reviews',\n",
    "    'reviews_per_month',\n",
    "    'calculated_host_listings_count',\n",
    "    'availability_365'\n",
    "]"
   ]
  },
  {
   "cell_type": "code",
   "execution_count": 23,
   "id": "60578ebd",
   "metadata": {},
   "outputs": [
    {
     "data": {
      "text/plain": [
       "<AxesSubplot:>"
      ]
     },
     "execution_count": 23,
     "metadata": {},
     "output_type": "execute_result"
    },
    {
     "data": {
      "image/png": "[encoded data removed]",
      "text/plain": [
       "<Figure size 432x288 with 2 Axes>"
      ]
     },
     "metadata": {
      "needs_background": "light"
     },
     "output_type": "display_data"
    }
   ],
   "source": [
    "corr_matrix = df_train[numerical].corr().round(3)\n",
    "sns.heatmap(corr_matrix, \n",
    "            annot=True, \n",
    "            cmap=\"YlGnBu\"\n",
    "           )"
   ]
  },
  {
   "cell_type": "markdown",
   "id": "40f65469",
   "metadata": {},
   "source": [
    "## make price binary"
   ]
  },
  {
   "cell_type": "code",
   "execution_count": 24,
   "id": "8f053516",
   "metadata": {},
   "outputs": [
    {
     "data": {
      "text/plain": [
       "152.7206871868289"
      ]
     },
     "execution_count": 24,
     "metadata": {},
     "output_type": "execute_result"
    }
   ],
   "source": [
    "df.price.mean()"
   ]
  },
  {
   "cell_type": "code",
   "execution_count": 25,
   "id": "2152d157",
   "metadata": {},
   "outputs": [
    {
     "data": {
      "text/plain": [
       "array([False, False, False, ...,  True, False, False])"
      ]
     },
     "execution_count": 25,
     "metadata": {},
     "output_type": "execute_result"
    }
   ],
   "source": [
    "above_average = (y_train >= 152)\n",
    "above_average"
   ]
  },
  {
   "cell_type": "code",
   "execution_count": 26,
   "id": "c99987bc",
   "metadata": {},
   "outputs": [
    {
     "data": {
      "text/plain": [
       "array([0, 0, 0, ..., 1, 0, 0])"
      ]
     },
     "execution_count": 26,
     "metadata": {},
     "output_type": "execute_result"
    }
   ],
   "source": [
    "y_train_binarized = (y_train >= 152).astype(int)\n",
    "y_train_binarized"
   ]
  },
  {
   "cell_type": "markdown",
   "id": "fd472e6c",
   "metadata": {},
   "source": [
    "## question 3"
   ]
  },
  {
   "cell_type": "code",
   "execution_count": 27,
   "id": "ee1e35bc",
   "metadata": {},
   "outputs": [],
   "source": [
    "categorical = [\n",
    "    'neighbourhood_group', \n",
    "    'room_type'\n",
    "]"
   ]
  },
  {
   "cell_type": "code",
   "execution_count": 28,
   "id": "69f016f4",
   "metadata": {},
   "outputs": [
    {
     "data": {
      "text/plain": [
       "room_type              0.14\n",
       "neighbourhood_group    0.05\n",
       "dtype: float64"
      ]
     },
     "execution_count": 28,
     "metadata": {},
     "output_type": "execute_result"
    }
   ],
   "source": [
    "def mutual_info_price_score(series):\n",
    "    return mutual_info_score(series, y_train_binarized)\n",
    "\n",
    "mi = df_train[categorical].apply(mutual_info_price_score)\n",
    "mi.sort_values(ascending=False).round(2)"
   ]
  },
  {
   "cell_type": "markdown",
   "id": "9e273394",
   "metadata": {},
   "source": [
    "## one-hot encoding"
   ]
  },
  {
   "cell_type": "code",
   "execution_count": 29,
   "id": "5b2083ac",
   "metadata": {},
   "outputs": [],
   "source": [
    "dv = DictVectorizer(sparse=False)\n",
    "\n",
    "train_dict = df_train[categorical + numerical].to_dict(orient='records')\n",
    "X_train = dv.fit_transform(train_dict)\n",
    "\n",
    "val_dict = df_val[categorical + numerical].to_dict(orient='records')\n",
    "X_val = dv.transform(val_dict)"
   ]
  },
  {
   "cell_type": "markdown",
   "id": "c265b109",
   "metadata": {},
   "source": [
    "## question 4"
   ]
  },
  {
   "cell_type": "code",
   "execution_count": 30,
   "id": "2e71d29b",
   "metadata": {},
   "outputs": [
    {
     "data": {
      "text/plain": [
       "LogisticRegression(random_state=42)"
      ]
     },
     "execution_count": 30,
     "metadata": {},
     "output_type": "execute_result"
    }
   ],
   "source": [
    "baseline = LogisticRegression(solver='lbfgs', C=1.0, random_state=42)\n",
    "baseline.fit(X_train, y_train_binarized)"
   ]
  },
  {
   "cell_type": "code",
   "execution_count": 31,
   "id": "d0ed02e5",
   "metadata": {},
   "outputs": [
    {
     "data": {
      "text/plain": [
       "-0.0026402603322458933"
      ]
     },
     "execution_count": 31,
     "metadata": {},
     "output_type": "execute_result"
    }
   ],
   "source": [
    "baseline.intercept_[0]"
   ]
  },
  {
   "cell_type": "code",
   "execution_count": 32,
   "id": "4adc90e5",
   "metadata": {},
   "outputs": [
    {
     "data": {
      "text/plain": [
       "array([ 0.003,  0.004, -0.229, -0.096, -0.012, -0.399,  0.081,  1.247,\n",
       "       -0.799, -0.132, -0.003, -0.042,  1.63 , -1.158, -0.474])"
      ]
     },
     "execution_count": 32,
     "metadata": {},
     "output_type": "execute_result"
    }
   ],
   "source": [
    "baseline.coef_[0].round(3)"
   ]
  },
  {
   "cell_type": "code",
   "execution_count": 33,
   "id": "d8a03add",
   "metadata": {},
   "outputs": [
    {
     "data": {
      "text/plain": [
       "array([0.0327736 , 0.56905287, 0.39587545, ..., 0.09974134, 0.03416823,\n",
       "       0.64059179])"
      ]
     },
     "execution_count": 33,
     "metadata": {},
     "output_type": "execute_result"
    }
   ],
   "source": [
    "y_pred = baseline.predict_proba(X_val)[:, 1]\n",
    "y_pred"
   ]
  },
  {
   "cell_type": "code",
   "execution_count": 34,
   "id": "6e2fcd32",
   "metadata": {},
   "outputs": [
    {
     "data": {
      "text/plain": [
       "array([0, 0, 1, ..., 0, 0, 0])"
      ]
     },
     "execution_count": 34,
     "metadata": {},
     "output_type": "execute_result"
    }
   ],
   "source": [
    "y_val_binarized = (y_val >= 152).astype(int)\n",
    "y_val_binarized"
   ]
  },
  {
   "cell_type": "code",
   "execution_count": 35,
   "id": "e080a4ea",
   "metadata": {},
   "outputs": [
    {
     "data": {
      "text/plain": [
       "0.69"
      ]
     },
     "execution_count": 35,
     "metadata": {},
     "output_type": "execute_result"
    }
   ],
   "source": [
    "score_baseline = accuracy_score(y_val_binarized, y_pred.astype(int)\n",
    "                ).round(2)\n",
    "score_baseline"
   ]
  },
  {
   "cell_type": "code",
   "execution_count": 36,
   "id": "8e1f7496",
   "metadata": {},
   "outputs": [
    {
     "data": {
      "text/plain": [
       "array([[6781,    0],\n",
       "       [2998,    0]])"
      ]
     },
     "execution_count": 36,
     "metadata": {},
     "output_type": "execute_result"
    }
   ],
   "source": [
    "confusion_matrix(y_val_binarized, y_pred.astype(int))"
   ]
  },
  {
   "cell_type": "markdown",
   "id": "1b970e64",
   "metadata": {},
   "source": [
    "## question 5"
   ]
  },
  {
   "cell_type": "code",
   "execution_count": 37,
   "id": "04a062a4",
   "metadata": {},
   "outputs": [
    {
     "name": "stdout",
     "output_type": "stream",
     "text": [
      "['latitude', 'longitude', 'minimum_nights', 'number_of_reviews', 'reviews_per_month', 'calculated_host_listings_count', 'availability_365', 'neighbourhood_group', 'room_type']\n"
     ]
    }
   ],
   "source": [
    "predictors = numerical + categorical\n",
    "print(predictors)"
   ]
  },
  {
   "cell_type": "code",
   "execution_count": 38,
   "id": "f9d029d5",
   "metadata": {
    "scrolled": false
   },
   "outputs": [
    {
     "name": "stdout",
     "output_type": "stream",
     "text": [
      "Dropped preditor variable: latitude\n",
      "Active predictors:\n",
      "{'availability_365': 0.003, 'calculated_host_listings_count': 0.004, 'longitude': 0.031, 'minimum_nights': -0.011, 'neighbourhood_group=Bronx': -0.384, 'neighbourhood_group=Brooklyn': 0.117, 'neighbourhood_group=Manhattan': 1.188, 'neighbourhood_group=Queens': -0.802, 'neighbourhood_group=Staten Island': -0.124, 'number_of_reviews': -0.003, 'reviews_per_month': -0.036, 'room_type=Entire home/apt': 1.642, 'room_type=Private room': -1.194, 'room_type=Shared room': -0.453}\n",
      "Accuracy score: 0.69\n",
      "Delta with baseline model: 0.0\n",
      "\n",
      "Dropped preditor variable: longitude\n",
      "Active predictors:\n",
      "{'availability_365': 0.003, 'calculated_host_listings_count': 0.004, 'latitude': -0.056, 'minimum_nights': -0.011, 'neighbourhood_group=Bronx': -0.392, 'neighbourhood_group=Brooklyn': 0.114, 'neighbourhood_group=Manhattan': 1.209, 'neighbourhood_group=Queens': -0.801, 'neighbourhood_group=Staten Island': -0.128, 'number_of_reviews': -0.003, 'reviews_per_month': -0.039, 'room_type=Entire home/apt': 1.648, 'room_type=Private room': -1.181, 'room_type=Shared room': -0.465}\n",
      "Accuracy score: 0.69\n",
      "Delta with baseline model: 0.0\n",
      "\n",
      "Dropped preditor variable: minimum_nights\n",
      "Active predictors:\n",
      "{'availability_365': 0.003, 'calculated_host_listings_count': 0.006, 'latitude': -0.569, 'longitude': -0.276, 'neighbourhood_group=Bronx': -0.822, 'neighbourhood_group=Brooklyn': 0.222, 'neighbourhood_group=Manhattan': 1.301, 'neighbourhood_group=Queens': -0.404, 'neighbourhood_group=Staten Island': -0.301, 'number_of_reviews': -0.002, 'reviews_per_month': -0.017, 'room_type=Entire home/apt': 1.941, 'room_type=Private room': -0.914, 'room_type=Shared room': -1.031}\n",
      "Accuracy score: 0.69\n",
      "Delta with baseline model: 0.0\n",
      "\n",
      "Dropped preditor variable: number_of_reviews\n",
      "Active predictors:\n",
      "{'availability_365': 0.003, 'calculated_host_listings_count': 0.005, 'latitude': -0.225, 'longitude': -0.093, 'minimum_nights': -0.011, 'neighbourhood_group=Bronx': -0.387, 'neighbourhood_group=Brooklyn': 0.113, 'neighbourhood_group=Manhattan': 1.205, 'neighbourhood_group=Queens': -0.807, 'neighbourhood_group=Staten Island': -0.127, 'reviews_per_month': -0.093, 'room_type=Entire home/apt': 1.639, 'room_type=Private room': -1.185, 'room_type=Shared room': -0.456}\n",
      "Accuracy score: 0.69\n",
      "Delta with baseline model: 0.0\n",
      "\n",
      "Dropped preditor variable: reviews_per_month\n",
      "Active predictors:\n",
      "{'availability_365': 0.003, 'calculated_host_listings_count': 0.003, 'latitude': -0.383, 'longitude': -0.176, 'minimum_nights': -0.012, 'neighbourhood_group=Bronx': -0.622, 'neighbourhood_group=Brooklyn': 0.215, 'neighbourhood_group=Manhattan': 1.413, 'neighbourhood_group=Queens': -0.792, 'neighbourhood_group=Staten Island': -0.217, 'number_of_reviews': -0.004, 'room_type=Entire home/apt': 1.81, 'room_type=Private room': -1.064, 'room_type=Shared room': -0.75}\n",
      "Accuracy score: 0.69\n",
      "Delta with baseline model: 0.0\n",
      "\n",
      "Dropped preditor variable: calculated_host_listings_count\n",
      "Active predictors:\n",
      "{'availability_365': 0.003, 'latitude': -0.239, 'longitude': -0.1, 'minimum_nights': -0.01, 'neighbourhood_group=Bronx': -0.404, 'neighbourhood_group=Brooklyn': 0.129, 'neighbourhood_group=Manhattan': 1.246, 'neighbourhood_group=Queens': -0.838, 'neighbourhood_group=Staten Island': -0.134, 'number_of_reviews': -0.004, 'reviews_per_month': -0.041, 'room_type=Entire home/apt': 1.666, 'room_type=Private room': -1.191, 'room_type=Shared room': -0.478}\n",
      "Accuracy score: 0.69\n",
      "Delta with baseline model: 0.0\n",
      "\n",
      "Dropped preditor variable: availability_365\n",
      "Active predictors:\n",
      "{'calculated_host_listings_count': 0.008, 'latitude': -0.257, 'longitude': -0.115, 'minimum_nights': -0.005, 'neighbourhood_group=Bronx': -0.388, 'neighbourhood_group=Brooklyn': 0.055, 'neighbourhood_group=Manhattan': 1.093, 'neighbourhood_group=Queens': -0.642, 'neighbourhood_group=Staten Island': -0.12, 'number_of_reviews': -0.002, 'reviews_per_month': 0.02, 'room_type=Entire home/apt': 1.564, 'room_type=Private room': -1.11, 'room_type=Shared room': -0.457}\n",
      "Accuracy score: 0.69\n",
      "Delta with baseline model: 0.0\n",
      "\n",
      "Dropped preditor variable: neighbourhood_group\n",
      "Active predictors:\n",
      "{'availability_365': 0.003, 'calculated_host_listings_count': 0.008, 'latitude': -0.142, 'longitude': -0.052, 'minimum_nights': -0.008, 'number_of_reviews': -0.003, 'reviews_per_month': -0.072, 'room_type=Entire home/apt': 1.989, 'room_type=Private room': -0.863, 'room_type=Shared room': -1.14}\n",
      "Accuracy score: 0.69\n",
      "Delta with baseline model: 0.0\n",
      "\n",
      "Dropped preditor variable: room_type\n",
      "Active predictors:\n",
      "{'availability_365': 0.002, 'calculated_host_listings_count': 0.009, 'latitude': -0.496, 'longitude': -0.252, 'minimum_nights': -0.006, 'neighbourhood_group=Bronx': -0.568, 'neighbourhood_group=Brooklyn': 0.065, 'neighbourhood_group=Manhattan': 1.276, 'neighbourhood_group=Queens': -0.614, 'neighbourhood_group=Staten Island': -0.162, 'number_of_reviews': -0.003, 'reviews_per_month': -0.04}\n",
      "Accuracy score: 0.69\n",
      "Delta with baseline model: 0.0\n",
      "\n"
     ]
    }
   ],
   "source": [
    "for p in predictors:\n",
    "    temp = predictors.copy()\n",
    "    temp.remove(p)\n",
    "    \n",
    "    dicts_train_drop_one = df_train[temp].to_dict(orient='records')\n",
    "    dicts_val_drop_one = df_val[temp].to_dict(orient='records')\n",
    "    \n",
    "    dv_drop_one = DictVectorizer(sparse=False)\n",
    "    dv_drop_one.fit(dicts_train_drop_one)\n",
    "    \n",
    "    print(\"Dropped preditor variable: {}\".format(p))\n",
    "    \n",
    "    \n",
    "    X_train_drop_one = dv_drop_one.transform(dicts_train_drop_one)\n",
    "    X_val_drop_one = dv_drop_one.transform(dicts_val_drop_one)\n",
    "    \n",
    "    model_drop_one = LogisticRegression(solver='lbfgs', C=1.0, random_state=42)\n",
    "    model_drop_one.fit(X_train_drop_one, y_train_binarized)\n",
    "    print(\"Active predictors:\")\n",
    "    print(dict(zip(dv_drop_one.get_feature_names(), model_drop_one.coef_[0].round(3))))\n",
    "    \n",
    "    y_pred_drop_one = model_drop_one.predict_proba(X_val_drop_one)[:, 1]\n",
    "    \n",
    "    score_drop_one = accuracy_score(y_val_binarized, \n",
    "                                    y_pred_drop_one.astype(int)\n",
    "                                    ).round(2)\n",
    "    print(\"Accuracy score: {}\".format(score_drop_one))\n",
    "    \n",
    "    delta = score_baseline - score_drop_one \n",
    "    print(\"Delta with baseline model: {}\".format(delta))\n",
    "    print(\"\")"
   ]
  },
  {
   "cell_type": "markdown",
   "id": "c23e16dd",
   "metadata": {},
   "source": [
    "## question 6"
   ]
  },
  {
   "cell_type": "code",
   "execution_count": 39,
   "id": "15895df7",
   "metadata": {},
   "outputs": [],
   "source": [
    "y_train_log = np.log1p(y_train)"
   ]
  },
  {
   "cell_type": "code",
   "execution_count": 40,
   "id": "a0147189",
   "metadata": {},
   "outputs": [
    {
     "name": "stdout",
     "output_type": "stream",
     "text": [
      "Alpha value: 0\n",
      "Root mean square error: 223.417\n",
      "\n",
      "Alpha value: 0.01\n",
      "Root mean square error: 223.417\n",
      "\n",
      "Alpha value: 0.1\n",
      "Root mean square error: 223.421\n",
      "\n",
      "Alpha value: 1\n",
      "Root mean square error: 223.459\n",
      "\n",
      "Alpha value: 10\n",
      "Root mean square error: 223.809\n",
      "\n"
     ]
    }
   ],
   "source": [
    "for hyperparameter in [0, 0.01, 0.1, 1, 10]:\n",
    "    model = Ridge(alpha=hyperparameter)\n",
    "    model.fit(df_train[numerical], y_train_log)\n",
    "    \n",
    "    y_pred_log = model.predict(df_val[numerical])\n",
    "    rms = mean_squared_error(y_val, np.expm1(y_pred_log), squared=False)\n",
    "    \n",
    "    print(\"Alpha value: {}\".format(hyperparameter))\n",
    "    print(\"Root mean square error: {}\".format(round(rms, 3)))\n",
    "    print(\"\")"
   ]
  },
  {
   "cell_type": "code",
   "execution_count": 41,
   "id": "86e291c9",
   "metadata": {},
   "outputs": [
    {
     "name": "stdout",
     "output_type": "stream",
     "text": [
      "223.809\n"
     ]
    }
   ],
   "source": [
    "# cross-checking rmse calculation by sklearn\n",
    "from math import sqrt\n",
    " \n",
    "model = Ridge(alpha=10)\n",
    "model.fit(df_train[numerical], y_train_log)\n",
    "\n",
    "y_pred_log = model.predict(df_val[numerical])\n",
    "rms = sqrt(mean_squared_error(y_val, np.expm1(y_pred_log)))\n",
    "print(round(rms, 3))"
   ]
  },
  {
   "cell_type": "code",
   "execution_count": null,
   "id": "81ebce91",
   "metadata": {},
   "outputs": [],
   "source": []
  },
  {
   "cell_type": "code",
   "execution_count": null,
   "id": "c3967214",
   "metadata": {},
   "outputs": [],
   "source": []
  }
 ],
 "metadata": {
  "kernelspec": {
   "display_name": "Python 3 (ipykernel)",
   "language": "python",
   "name": "python3"
  },
  "language_info": {
   "codemirror_mode": {
    "name": "ipython",
    "version": 3
   },
   "file_extension": ".py",
   "mimetype": "text/x-python",
   "name": "python",
   "nbconvert_exporter": "python",
   "pygments_lexer": "ipython3",
   "version": "3.7.10"
  }
 },
 "nbformat": 4,
 "nbformat_minor": 5
}
