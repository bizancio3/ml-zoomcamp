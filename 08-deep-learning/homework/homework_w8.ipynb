{
 "cells": [
  {
   "cell_type": "code",
   "execution_count": 1,
   "metadata": {},
   "outputs": [
    {
     "name": "stderr",
     "output_type": "stream",
     "text": [
      "2021-11-18 19:41:19.632937: W tensorflow/stream_executor/platform/default/dso_loader.cc:64] Could not load dynamic library 'libcudart.so.11.0'; dlerror: libcudart.so.11.0: cannot open shared object file: No such file or directory\n",
      "2021-11-18 19:41:19.633001: I tensorflow/stream_executor/cuda/cudart_stub.cc:29] Ignore above cudart dlerror if you do not have a GPU set up on your machine.\n"
     ]
    }
   ],
   "source": [
    "import numpy as np\n",
    "import matplotlib.pyplot as plt\n",
    "\n",
    "%matplotlib inline\n",
    "\n",
    "import tensorflow as tf\n",
    "from tensorflow import keras"
   ]
  },
  {
   "cell_type": "code",
   "execution_count": 2,
   "metadata": {},
   "outputs": [],
   "source": [
    "from tensorflow.keras.preprocessing.image import ImageDataGenerator"
   ]
  },
  {
   "cell_type": "code",
   "execution_count": 3,
   "metadata": {},
   "outputs": [
    {
     "name": "stdout",
     "output_type": "stream",
     "text": [
      "Found 20000 images belonging to 2 classes.\n"
     ]
    }
   ],
   "source": [
    "train_gen = ImageDataGenerator()\n",
    "\n",
    "train_ds = train_gen.flow_from_directory(\n",
    "    './train',\n",
    "    target_size=(150, 150),\n",
    "    batch_size=20,\n",
    "    class_mode = 'binary'\n",
    ")"
   ]
  },
  {
   "cell_type": "code",
   "execution_count": 4,
   "metadata": {},
   "outputs": [
    {
     "data": {
      "text/plain": [
       "{'cats': 0, 'dogs': 1}"
      ]
     },
     "execution_count": 4,
     "metadata": {},
     "output_type": "execute_result"
    }
   ],
   "source": [
    "train_ds.class_indices"
   ]
  },
  {
   "cell_type": "code",
   "execution_count": 5,
   "metadata": {},
   "outputs": [
    {
     "name": "stdout",
     "output_type": "stream",
     "text": [
      "Found 5000 images belonging to 2 classes.\n"
     ]
    }
   ],
   "source": [
    "#idem for validation data\n",
    "val_gen = ImageDataGenerator()\n",
    "\n",
    "val_ds = val_gen.flow_from_directory(\n",
    "    './validation',\n",
    "    target_size=(150, 150),\n",
    "    batch_size=20,\n",
    "    class_mode = 'binary',\n",
    "    shuffle=False\n",
    ")"
   ]
  },
  {
   "cell_type": "code",
   "execution_count": 6,
   "metadata": {},
   "outputs": [
    {
     "name": "stderr",
     "output_type": "stream",
     "text": [
      "2021-11-18 19:41:25.591814: I tensorflow/stream_executor/cuda/cuda_gpu_executor.cc:925] could not open file to read NUMA node: /sys/bus/pci/devices/0000:01:00.0/numa_node\n",
      "Your kernel may have been built without NUMA support.\n",
      "2021-11-18 19:41:25.592311: W tensorflow/stream_executor/platform/default/dso_loader.cc:64] Could not load dynamic library 'libcudart.so.11.0'; dlerror: libcudart.so.11.0: cannot open shared object file: No such file or directory\n",
      "2021-11-18 19:41:25.592503: W tensorflow/stream_executor/platform/default/dso_loader.cc:64] Could not load dynamic library 'libcublas.so.11'; dlerror: libcublas.so.11: cannot open shared object file: No such file or directory\n",
      "2021-11-18 19:41:25.592611: W tensorflow/stream_executor/platform/default/dso_loader.cc:64] Could not load dynamic library 'libcublasLt.so.11'; dlerror: libcublasLt.so.11: cannot open shared object file: No such file or directory\n",
      "2021-11-18 19:41:25.592688: W tensorflow/stream_executor/platform/default/dso_loader.cc:64] Could not load dynamic library 'libcufft.so.10'; dlerror: libcufft.so.10: cannot open shared object file: No such file or directory\n",
      "2021-11-18 19:41:25.592758: W tensorflow/stream_executor/platform/default/dso_loader.cc:64] Could not load dynamic library 'libcurand.so.10'; dlerror: libcurand.so.10: cannot open shared object file: No such file or directory\n",
      "2021-11-18 19:41:25.592857: W tensorflow/stream_executor/platform/default/dso_loader.cc:64] Could not load dynamic library 'libcusolver.so.11'; dlerror: libcusolver.so.11: cannot open shared object file: No such file or directory\n",
      "2021-11-18 19:41:25.592960: W tensorflow/stream_executor/platform/default/dso_loader.cc:64] Could not load dynamic library 'libcusparse.so.11'; dlerror: libcusparse.so.11: cannot open shared object file: No such file or directory\n",
      "2021-11-18 19:41:25.593062: W tensorflow/stream_executor/platform/default/dso_loader.cc:64] Could not load dynamic library 'libcudnn.so.8'; dlerror: libcudnn.so.8: cannot open shared object file: No such file or directory\n",
      "2021-11-18 19:41:25.593076: W tensorflow/core/common_runtime/gpu/gpu_device.cc:1850] Cannot dlopen some GPU libraries. Please make sure the missing libraries mentioned above are installed properly if you would like to use GPU. Follow the guide at https://www.tensorflow.org/install/gpu for how to download and setup the required libraries for your platform.\n",
      "Skipping registering GPU devices...\n",
      "2021-11-18 19:41:25.593760: I tensorflow/core/platform/cpu_feature_guard.cc:151] This TensorFlow binary is optimized with oneAPI Deep Neural Network Library (oneDNN) to use the following CPU instructions in performance-critical operations:  AVX2 FMA\n",
      "To enable them in other operations, rebuild TensorFlow with the appropriate compiler flags.\n"
     ]
    }
   ],
   "source": [
    "# neural network architecture (functional style)\n",
    "from tensorflow.keras import layers\n",
    "from tensorflow.keras import initializers\n",
    "\n",
    "inputs = keras.Input(shape=(150, 150, 3))\n",
    "\n",
    "inner = layers.Conv2D(32, 3, activation='relu')(inputs)\n",
    "inner2 = layers.MaxPooling2D(pool_size=(2, 2))(inner)\n",
    "vectors = layers.Flatten()(inner2)\n",
    "inner3 = layers.Dense(\n",
    "    64, \n",
    "    activation='relu', \n",
    "    kernel_initializer=initializers.RandomNormal(stddev=0.01),\n",
    "    bias_initializer=initializers.Zeros()\n",
    " )(vectors)\n",
    "\n",
    "outputs = layers.Dense(1, activation='sigmoid')(inner3)\n",
    "\n",
    "model = keras.Model(inputs, outputs)"
   ]
  },
  {
   "cell_type": "code",
   "execution_count": 7,
   "metadata": {},
   "outputs": [],
   "source": [
    "optimizer = keras.optimizers.SGD(\n",
    "    learning_rate=0.002, \n",
    "    momentum=0.8\n",
    ")\n",
    "\n",
    "model.compile(\n",
    "    optimizer=optimizer, \n",
    "    loss=keras.losses.BinaryCrossentropy(), \n",
    "    metrics=[keras.metrics.BinaryAccuracy()]\n",
    "    )"
   ]
  },
  {
   "cell_type": "code",
   "execution_count": 8,
   "metadata": {},
   "outputs": [
    {
     "name": "stdout",
     "output_type": "stream",
     "text": [
      "Model: \"model\"\n",
      "_________________________________________________________________\n",
      " Layer (type)                Output Shape              Param #   \n",
      "=================================================================\n",
      " input_1 (InputLayer)        [(None, 150, 150, 3)]     0         \n",
      "                                                                 \n",
      " conv2d (Conv2D)             (None, 148, 148, 32)      896       \n",
      "                                                                 \n",
      " max_pooling2d (MaxPooling2D  (None, 74, 74, 32)       0         \n",
      " )                                                               \n",
      "                                                                 \n",
      " flatten (Flatten)           (None, 175232)            0         \n",
      "                                                                 \n",
      " dense (Dense)               (None, 64)                11214912  \n",
      "                                                                 \n",
      " dense_1 (Dense)             (None, 1)                 65        \n",
      "                                                                 \n",
      "=================================================================\n",
      "Total params: 11,215,873\n",
      "Trainable params: 11,215,873\n",
      "Non-trainable params: 0\n",
      "_________________________________________________________________\n"
     ]
    }
   ],
   "source": [
    "model.summary()"
   ]
  },
  {
   "cell_type": "markdown",
   "metadata": {},
   "source": [
    "### 1st round"
   ]
  },
  {
   "cell_type": "code",
   "execution_count": 9,
   "metadata": {},
   "outputs": [
    {
     "name": "stdout",
     "output_type": "stream",
     "text": [
      "Found 20000 images belonging to 2 classes.\n",
      "Found 5000 images belonging to 2 classes.\n"
     ]
    }
   ],
   "source": [
    "gen = ImageDataGenerator(\n",
    "    rescale=1./255\n",
    ")\n",
    "\n",
    "train_ds = gen.flow_from_directory(\n",
    "    './train',\n",
    "    target_size=(150, 150),\n",
    "    batch_size=20,\n",
    "    class_mode = 'binary'\n",
    ")\n",
    "\n",
    "val_ds = gen.flow_from_directory(\n",
    "    './validation',\n",
    "    target_size=(150, 150),\n",
    "    batch_size=20,\n",
    "    class_mode = 'binary',\n",
    "    shuffle=False\n",
    ")"
   ]
  },
  {
   "cell_type": "code",
   "execution_count": 10,
   "metadata": {},
   "outputs": [
    {
     "name": "stdout",
     "output_type": "stream",
     "text": [
      "Epoch 1/10\n",
      "100/100 [==============================] - 28s 270ms/step - loss: 0.6917 - binary_accuracy: 0.5425 - val_loss: 0.7855 - val_binary_accuracy: 0.1410\n",
      "Epoch 2/10\n",
      "100/100 [==============================] - 24s 239ms/step - loss: 0.6822 - binary_accuracy: 0.5595 - val_loss: 0.7881 - val_binary_accuracy: 0.2460\n",
      "Epoch 3/10\n",
      "100/100 [==============================] - 23s 226ms/step - loss: 0.6715 - binary_accuracy: 0.5735 - val_loss: 0.7175 - val_binary_accuracy: 0.4450\n",
      "Epoch 4/10\n",
      "100/100 [==============================] - 23s 225ms/step - loss: 0.6643 - binary_accuracy: 0.5930 - val_loss: 0.8650 - val_binary_accuracy: 0.1890\n",
      "Epoch 5/10\n",
      "100/100 [==============================] - 23s 227ms/step - loss: 0.6596 - binary_accuracy: 0.6050 - val_loss: 0.4131 - val_binary_accuracy: 0.9800\n",
      "Epoch 6/10\n",
      "100/100 [==============================] - 22s 222ms/step - loss: 0.6523 - binary_accuracy: 0.6010 - val_loss: 0.7753 - val_binary_accuracy: 0.3890\n",
      "Epoch 7/10\n",
      "100/100 [==============================] - 23s 226ms/step - loss: 0.6526 - binary_accuracy: 0.6090 - val_loss: 0.6581 - val_binary_accuracy: 0.6090\n",
      "Epoch 8/10\n",
      "100/100 [==============================] - 22s 222ms/step - loss: 0.6397 - binary_accuracy: 0.6380 - val_loss: 0.6258 - val_binary_accuracy: 0.6580\n",
      "Epoch 9/10\n",
      "100/100 [==============================] - 21s 213ms/step - loss: 0.6429 - binary_accuracy: 0.6135 - val_loss: 0.6780 - val_binary_accuracy: 0.5660\n",
      "Epoch 10/10\n",
      "100/100 [==============================] - 22s 215ms/step - loss: 0.6295 - binary_accuracy: 0.6395 - val_loss: 0.5473 - val_binary_accuracy: 0.7880\n"
     ]
    }
   ],
   "source": [
    "history = model.fit(\n",
    "    train_ds,\n",
    "    steps_per_epoch=100,\n",
    "    epochs=10,\n",
    "    validation_data=val_ds,\n",
    "    validation_steps=50\n",
    ")"
   ]
  },
  {
   "cell_type": "code",
   "execution_count": 11,
   "metadata": {},
   "outputs": [
    {
     "data": {
      "text/plain": [
       "<matplotlib.legend.Legend at 0x7fabbcdbeaf0>"
      ]
     },
     "execution_count": 11,
     "metadata": {},
     "output_type": "execute_result"
    },
    {
     "data": {
      "image/png": "[encoded data removed]",
      "text/plain": [
       "<Figure size 432x288 with 1 Axes>"
      ]
     },
     "metadata": {
      "needs_background": "light"
     },
     "output_type": "display_data"
    }
   ],
   "source": [
    "plt.plot(history.history['binary_accuracy'], label='train')\n",
    "plt.plot(history.history['val_binary_accuracy'], label='val')\n",
    "plt.xticks(np.arange(10))\n",
    "plt.legend()"
   ]
  },
  {
   "cell_type": "code",
   "execution_count": 12,
   "metadata": {},
   "outputs": [
    {
     "data": {
      "text/plain": [
       "DescribeResult(nobs=10, minmax=(0.5425000190734863, 0.6395000219345093), mean=0.5974500060081482, variance=0.0009918032613757393, skewness=-0.3270625398989527, kurtosis=-0.8113251129175292)"
      ]
     },
     "execution_count": 12,
     "metadata": {},
     "output_type": "execute_result"
    }
   ],
   "source": [
    "from scipy import stats\n",
    "\n",
    "stats.describe(np.array(history.history['binary_accuracy']))"
   ]
  },
  {
   "cell_type": "code",
   "execution_count": 13,
   "metadata": {},
   "outputs": [
    {
     "data": {
      "text/plain": [
       "0.6030000150203705"
      ]
     },
     "execution_count": 13,
     "metadata": {},
     "output_type": "execute_result"
    }
   ],
   "source": [
    "# median of training accuracy\n",
    "np.median(history.history['binary_accuracy'])"
   ]
  },
  {
   "cell_type": "code",
   "execution_count": 14,
   "metadata": {},
   "outputs": [
    {
     "data": {
      "text/plain": [
       "0.018378598223205152"
      ]
     },
     "execution_count": 14,
     "metadata": {},
     "output_type": "execute_result"
    }
   ],
   "source": [
    "# standard deviation of training loss\n",
    "np.std(history.history['loss'])"
   ]
  },
  {
   "cell_type": "markdown",
   "metadata": {},
   "source": [
    "### 2nd round"
   ]
  },
  {
   "cell_type": "code",
   "execution_count": 15,
   "metadata": {},
   "outputs": [
    {
     "name": "stdout",
     "output_type": "stream",
     "text": [
      "Found 20000 images belonging to 2 classes.\n",
      "Found 5000 images belonging to 2 classes.\n"
     ]
    }
   ],
   "source": [
    "gen2 = ImageDataGenerator(\n",
    "    rescale=1./255,\n",
    "    rotation_range=40,\n",
    "    width_shift_range=0.2,\n",
    "    height_shift_range=0.2,\n",
    "    shear_range=0.2,\n",
    "    zoom_range=0.2,\n",
    "    horizontal_flip=True,\n",
    "    fill_mode='nearest'\n",
    "    )\n",
    "\n",
    "train_ds = gen2.flow_from_directory(\n",
    "    './train',\n",
    "    target_size=(150, 150),\n",
    "    batch_size=20,\n",
    "    class_mode='binary'\n",
    "    )\n",
    "\n",
    "val_ds = gen2.flow_from_directory(\n",
    "    './validation',\n",
    "    target_size=(150, 150),\n",
    "    batch_size=20,\n",
    "    shuffle=False,\n",
    "    class_mode='binary'\n",
    "    )"
   ]
  },
  {
   "cell_type": "code",
   "execution_count": 16,
   "metadata": {},
   "outputs": [
    {
     "name": "stdout",
     "output_type": "stream",
     "text": [
      "Epoch 1/10\n",
      "100/100 [==============================] - 27s 270ms/step - loss: 0.6636 - binary_accuracy: 0.5915 - val_loss: 0.5766 - val_binary_accuracy: 0.7820\n",
      "Epoch 2/10\n",
      "100/100 [==============================] - 28s 276ms/step - loss: 0.6643 - binary_accuracy: 0.5880 - val_loss: 0.6308 - val_binary_accuracy: 0.7020\n",
      "Epoch 3/10\n",
      "100/100 [==============================] - 29s 292ms/step - loss: 0.6522 - binary_accuracy: 0.6145 - val_loss: 0.8127 - val_binary_accuracy: 0.3310\n",
      "Epoch 4/10\n",
      "100/100 [==============================] - 28s 283ms/step - loss: 0.6638 - binary_accuracy: 0.5835 - val_loss: 0.6675 - val_binary_accuracy: 0.5830\n",
      "Epoch 5/10\n",
      "100/100 [==============================] - 28s 279ms/step - loss: 0.6559 - binary_accuracy: 0.5915 - val_loss: 0.8163 - val_binary_accuracy: 0.2880\n",
      "Epoch 6/10\n",
      "100/100 [==============================] - 28s 281ms/step - loss: 0.6539 - binary_accuracy: 0.6120 - val_loss: 0.5279 - val_binary_accuracy: 0.8750\n",
      "Epoch 7/10\n",
      "100/100 [==============================] - 28s 281ms/step - loss: 0.6454 - binary_accuracy: 0.6290 - val_loss: 0.5556 - val_binary_accuracy: 0.8440\n",
      "Epoch 8/10\n",
      "100/100 [==============================] - 28s 279ms/step - loss: 0.6455 - binary_accuracy: 0.6285 - val_loss: 0.6573 - val_binary_accuracy: 0.6110\n",
      "Epoch 9/10\n",
      "100/100 [==============================] - 27s 269ms/step - loss: 0.6457 - binary_accuracy: 0.6195 - val_loss: 0.6830 - val_binary_accuracy: 0.5610\n",
      "Epoch 10/10\n",
      "100/100 [==============================] - 26s 260ms/step - loss: 0.6467 - binary_accuracy: 0.6170 - val_loss: 0.5297 - val_binary_accuracy: 0.8410\n"
     ]
    }
   ],
   "source": [
    "history2 = model.fit(\n",
    "    train_ds,\n",
    "    steps_per_epoch=100,\n",
    "    epochs=10,\n",
    "    validation_data=val_ds,\n",
    "    validation_steps=50\n",
    ")"
   ]
  },
  {
   "cell_type": "code",
   "execution_count": 17,
   "metadata": {},
   "outputs": [
    {
     "data": {
      "text/plain": [
       "<matplotlib.legend.Legend at 0x7fab9d12e280>"
      ]
     },
     "execution_count": 17,
     "metadata": {},
     "output_type": "execute_result"
    },
    {
     "data": {
      "image/png": "[encoded data removed]",
      "text/plain": [
       "<Figure size 432x288 with 1 Axes>"
      ]
     },
     "metadata": {
      "needs_background": "light"
     },
     "output_type": "display_data"
    }
   ],
   "source": [
    "plt.plot(history2.history['binary_accuracy'], label='train')\n",
    "plt.plot(history2.history['val_binary_accuracy'], label='val')\n",
    "plt.xticks(np.arange(10))\n",
    "plt.legend()"
   ]
  },
  {
   "cell_type": "code",
   "execution_count": 18,
   "metadata": {},
   "outputs": [
    {
     "data": {
      "text/plain": [
       "0.6457361102104187"
      ]
     },
     "execution_count": 18,
     "metadata": {},
     "output_type": "execute_result"
    }
   ],
   "source": [
    "np.mean(history2.history['val_loss'])"
   ]
  },
  {
   "cell_type": "code",
   "execution_count": 19,
   "metadata": {},
   "outputs": [
    {
     "data": {
      "text/plain": [
       "0.746399998664856"
      ]
     },
     "execution_count": 19,
     "metadata": {},
     "output_type": "execute_result"
    }
   ],
   "source": [
    "np.average(history2.history['val_binary_accuracy'][5:])"
   ]
  },
  {
   "cell_type": "code",
   "execution_count": null,
   "metadata": {},
   "outputs": [],
   "source": []
  },
  {
   "cell_type": "code",
   "execution_count": null,
   "metadata": {},
   "outputs": [],
   "source": []
  }
 ],
 "metadata": {
  "interpreter": {
   "hash": "f46acc4b343f01eeaab1736ca62ac61b7b31b5cef6f091ea62846230c5d84bd4"
  },
  "kernelspec": {
   "display_name": "Python 3.8.12 64-bit ('ml-zoomcamp': conda)",
   "language": "python",
   "name": "python3"
  },
  "language_info": {
   "codemirror_mode": {
    "name": "ipython",
    "version": 3
   },
   "file_extension": ".py",
   "mimetype": "text/x-python",
   "name": "python",
   "nbconvert_exporter": "python",
   "pygments_lexer": "ipython3",
   "version": "3.8.12"
  },
  "orig_nbformat": 4
 },
 "nbformat": 4,
 "nbformat_minor": 2
}
