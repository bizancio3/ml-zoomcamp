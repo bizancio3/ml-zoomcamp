{
 "cells": [
  {
   "cell_type": "code",
   "execution_count": 1,
   "metadata": {},
   "outputs": [
    {
     "name": "stderr",
     "output_type": "stream",
     "text": [
      "2021-11-17 21:49:54.655106: W tensorflow/stream_executor/platform/default/dso_loader.cc:64] Could not load dynamic library 'libcudart.so.11.0'; dlerror: libcudart.so.11.0: cannot open shared object file: No such file or directory\n",
      "2021-11-17 21:49:54.655270: I tensorflow/stream_executor/cuda/cudart_stub.cc:29] Ignore above cudart dlerror if you do not have a GPU set up on your machine.\n"
     ]
    }
   ],
   "source": [
    "import numpy as np\n",
    "import matplotlib.pyplot as plt\n",
    "\n",
    "%matplotlib inline\n",
    "\n",
    "import tensorflow as tf\n",
    "from tensorflow import keras"
   ]
  },
  {
   "cell_type": "code",
   "execution_count": 2,
   "metadata": {},
   "outputs": [],
   "source": [
    "from tensorflow.keras.preprocessing.image import ImageDataGenerator"
   ]
  },
  {
   "cell_type": "code",
   "execution_count": 3,
   "metadata": {},
   "outputs": [
    {
     "name": "stdout",
     "output_type": "stream",
     "text": [
      "Found 20000 images belonging to 2 classes.\n"
     ]
    }
   ],
   "source": [
    "train_gen = ImageDataGenerator()\n",
    "\n",
    "train_ds = train_gen.flow_from_directory(\n",
    "    './train',\n",
    "    target_size=(150, 150),\n",
    "    batch_size=20,\n",
    "    class_mode = 'binary'\n",
    ")"
   ]
  },
  {
   "cell_type": "code",
   "execution_count": 4,
   "metadata": {},
   "outputs": [
    {
     "data": {
      "text/plain": [
       "{'cats': 0, 'dogs': 1}"
      ]
     },
     "execution_count": 4,
     "metadata": {},
     "output_type": "execute_result"
    }
   ],
   "source": [
    "train_ds.class_indices"
   ]
  },
  {
   "cell_type": "code",
   "execution_count": 5,
   "metadata": {},
   "outputs": [
    {
     "name": "stdout",
     "output_type": "stream",
     "text": [
      "Found 5000 images belonging to 2 classes.\n"
     ]
    }
   ],
   "source": [
    "#idem for validation data\n",
    "val_gen = ImageDataGenerator()\n",
    "\n",
    "val_ds = val_gen.flow_from_directory(\n",
    "    './validation',\n",
    "    target_size=(150, 150),\n",
    "    batch_size=20,\n",
    "    class_mode = 'binary',\n",
    "    shuffle=False\n",
    ")"
   ]
  },
  {
   "cell_type": "code",
   "execution_count": 27,
   "metadata": {},
   "outputs": [],
   "source": [
    "# neural network architecture (functional style)\n",
    "\n",
    "inputs = keras.Input(shape=(150, 150, 3))\n",
    "\n",
    "inner = keras.layers.Conv2D(32, 3, activation='relu')(inputs)\n",
    "inner2 = keras.layers.MaxPooling2D(pool_size=(2, 2))(inner)\n",
    "vectors = keras.layers.Flatten()(inner2)\n",
    "inner3 = keras.layers.Dense(64, activation='relu')(vectors)\n",
    "outputs = keras.layers.Dense(1, activation='sigmoid')(inner3)\n",
    "\n",
    "model = keras.Model(inputs, outputs)"
   ]
  },
  {
   "cell_type": "code",
   "execution_count": 28,
   "metadata": {},
   "outputs": [],
   "source": [
    "optimizer = keras.optimizers.SGD(\n",
    "    learning_rate=0.002, \n",
    "    momentum=0.8\n",
    ")\n",
    "\n",
    "loss = keras.losses.BinaryCrossentropy()\n",
    "model.compile(optimizer=optimizer, loss=loss, metrics=['accuracy'])"
   ]
  },
  {
   "cell_type": "code",
   "execution_count": 29,
   "metadata": {},
   "outputs": [
    {
     "name": "stdout",
     "output_type": "stream",
     "text": [
      "Epoch 1/10\n",
      "1000/1000 [==============================] - 232s 229ms/step - loss: 0.6538 - accuracy: 0.6037 - val_loss: 0.6469 - val_accuracy: 0.6022\n",
      "Epoch 2/10\n",
      "1000/1000 [==============================] - 186s 185ms/step - loss: 0.5937 - accuracy: 0.6791 - val_loss: 0.5694 - val_accuracy: 0.7062\n",
      "Epoch 3/10\n",
      "1000/1000 [==============================] - 195s 195ms/step - loss: 0.5386 - accuracy: 0.7308 - val_loss: 0.5197 - val_accuracy: 0.7388\n",
      "Epoch 4/10\n",
      "1000/1000 [==============================] - 197s 197ms/step - loss: 0.4886 - accuracy: 0.7642 - val_loss: 0.5160 - val_accuracy: 0.7402\n",
      "Epoch 5/10\n",
      "1000/1000 [==============================] - 209s 209ms/step - loss: 0.4427 - accuracy: 0.7953 - val_loss: 0.5267 - val_accuracy: 0.7484\n",
      "Epoch 6/10\n",
      "1000/1000 [==============================] - 190s 190ms/step - loss: 0.3898 - accuracy: 0.8261 - val_loss: 0.5824 - val_accuracy: 0.7178\n",
      "Epoch 7/10\n",
      "1000/1000 [==============================] - 191s 191ms/step - loss: 0.3298 - accuracy: 0.8583 - val_loss: 0.5180 - val_accuracy: 0.7680\n",
      "Epoch 8/10\n",
      "1000/1000 [==============================] - 192s 192ms/step - loss: 0.2682 - accuracy: 0.8935 - val_loss: 0.5703 - val_accuracy: 0.7542\n",
      "Epoch 9/10\n",
      "1000/1000 [==============================] - 197s 197ms/step - loss: 0.2066 - accuracy: 0.9251 - val_loss: 0.6009 - val_accuracy: 0.7586\n",
      "Epoch 10/10\n",
      "1000/1000 [==============================] - 199s 199ms/step - loss: 0.1515 - accuracy: 0.9500 - val_loss: 0.6630 - val_accuracy: 0.7458\n"
     ]
    }
   ],
   "source": [
    "history = model.fit(\n",
    "    train_ds, \n",
    "    epochs=10, \n",
    "    validation_data=val_ds\n",
    ")"
   ]
  },
  {
   "cell_type": "code",
   "execution_count": 30,
   "metadata": {},
   "outputs": [
    {
     "name": "stdout",
     "output_type": "stream",
     "text": [
      "Model: \"model_1\"\n",
      "_________________________________________________________________\n",
      " Layer (type)                Output Shape              Param #   \n",
      "=================================================================\n",
      " input_2 (InputLayer)        [(None, 150, 150, 3)]     0         \n",
      "                                                                 \n",
      " conv2d_1 (Conv2D)           (None, 148, 148, 32)      896       \n",
      "                                                                 \n",
      " max_pooling2d_1 (MaxPooling  (None, 74, 74, 32)       0         \n",
      " 2D)                                                             \n",
      "                                                                 \n",
      " flatten_1 (Flatten)         (None, 175232)            0         \n",
      "                                                                 \n",
      " dense_2 (Dense)             (None, 64)                11214912  \n",
      "                                                                 \n",
      " dense_3 (Dense)             (None, 1)                 65        \n",
      "                                                                 \n",
      "=================================================================\n",
      "Total params: 11,215,873\n",
      "Trainable params: 11,215,873\n",
      "Non-trainable params: 0\n",
      "_________________________________________________________________\n"
     ]
    }
   ],
   "source": [
    "model.summary()"
   ]
  },
  {
   "cell_type": "code",
   "execution_count": 31,
   "metadata": {},
   "outputs": [
    {
     "data": {
      "text/plain": [
       "<matplotlib.legend.Legend at 0x7f48d076f880>"
      ]
     },
     "execution_count": 31,
     "metadata": {},
     "output_type": "execute_result"
    },
    {
     "data": {
      "image/png": "[encoded data removed]",
      "text/plain": [
       "<Figure size 432x288 with 1 Axes>"
      ]
     },
     "metadata": {
      "needs_background": "light"
     },
     "output_type": "display_data"
    }
   ],
   "source": [
    "plt.plot(history.history['accuracy'], label='train')\n",
    "plt.plot(history.history['val_accuracy'], label='val')\n",
    "plt.xticks(np.arange(10))\n",
    "plt.legend()"
   ]
  },
  {
   "cell_type": "markdown",
   "metadata": {},
   "source": [
    "### 2nd round"
   ]
  },
  {
   "cell_type": "code",
   "execution_count": 32,
   "metadata": {},
   "outputs": [
    {
     "name": "stdout",
     "output_type": "stream",
     "text": [
      "Found 20000 images belonging to 2 classes.\n",
      "Found 5000 images belonging to 2 classes.\n"
     ]
    }
   ],
   "source": [
    "gen = ImageDataGenerator(\n",
    "    rescale=1./255\n",
    ")\n",
    "\n",
    "train_ds = gen.flow_from_directory(\n",
    "    './train',\n",
    "    target_size=(150, 150),\n",
    "    batch_size=20,\n",
    "    class_mode = 'binary'\n",
    ")\n",
    "\n",
    "val_ds = gen.flow_from_directory(\n",
    "    './validation',\n",
    "    target_size=(150, 150),\n",
    "    batch_size=20,\n",
    "    class_mode = 'binary',\n",
    "    shuffle=False\n",
    ")"
   ]
  },
  {
   "cell_type": "code",
   "execution_count": 33,
   "metadata": {},
   "outputs": [
    {
     "name": "stdout",
     "output_type": "stream",
     "text": [
      "Epoch 1/10\n",
      "100/100 [==============================] - 23s 227ms/step - loss: 0.1064 - accuracy: 0.9760 - val_loss: 0.9819 - val_accuracy: 0.6730\n",
      "Epoch 2/10\n",
      "100/100 [==============================] - 23s 232ms/step - loss: 0.0949 - accuracy: 0.9780 - val_loss: 0.3961 - val_accuracy: 0.8610\n",
      "Epoch 3/10\n",
      "100/100 [==============================] - 23s 225ms/step - loss: 0.0991 - accuracy: 0.9705 - val_loss: 0.3743 - val_accuracy: 0.8690\n",
      "Epoch 4/10\n",
      "100/100 [==============================] - 23s 234ms/step - loss: 0.0959 - accuracy: 0.9730 - val_loss: 0.6936 - val_accuracy: 0.7640\n",
      "Epoch 5/10\n",
      "100/100 [==============================] - 24s 240ms/step - loss: 0.0922 - accuracy: 0.9770 - val_loss: 0.8486 - val_accuracy: 0.7250\n",
      "Epoch 6/10\n",
      "100/100 [==============================] - 24s 239ms/step - loss: 0.0737 - accuracy: 0.9860 - val_loss: 0.6819 - val_accuracy: 0.7670\n",
      "Epoch 7/10\n",
      "100/100 [==============================] - 23s 228ms/step - loss: 0.0907 - accuracy: 0.9765 - val_loss: 0.4964 - val_accuracy: 0.8360\n",
      "Epoch 8/10\n",
      "100/100 [==============================] - 25s 246ms/step - loss: 0.0881 - accuracy: 0.9770 - val_loss: 0.7700 - val_accuracy: 0.7380\n",
      "Epoch 9/10\n",
      "100/100 [==============================] - 22s 216ms/step - loss: 0.0809 - accuracy: 0.9820 - val_loss: 0.8352 - val_accuracy: 0.7290\n",
      "Epoch 10/10\n",
      "100/100 [==============================] - 21s 210ms/step - loss: 0.0734 - accuracy: 0.9835 - val_loss: 0.7386 - val_accuracy: 0.7490\n"
     ]
    }
   ],
   "source": [
    "history2 = model.fit(\n",
    "    train_ds,\n",
    "    steps_per_epoch=100,\n",
    "    epochs=10,\n",
    "    validation_data=val_ds,\n",
    "    validation_steps=50\n",
    ")"
   ]
  },
  {
   "cell_type": "code",
   "execution_count": 41,
   "metadata": {},
   "outputs": [
    {
     "data": {
      "text/plain": [
       "<matplotlib.legend.Legend at 0x7f48d175e640>"
      ]
     },
     "execution_count": 41,
     "metadata": {},
     "output_type": "execute_result"
    },
    {
     "data": {
      "image/png": "[encoded data removed]",
      "text/plain": [
       "<Figure size 432x288 with 1 Axes>"
      ]
     },
     "metadata": {
      "needs_background": "light"
     },
     "output_type": "display_data"
    }
   ],
   "source": [
    "plt.plot(history2.history['accuracy'], label='train')\n",
    "plt.plot(history2.history['val_accuracy'], label='val')\n",
    "plt.xticks(np.arange(10))\n",
    "plt.legend()"
   ]
  },
  {
   "cell_type": "code",
   "execution_count": 35,
   "metadata": {},
   "outputs": [
    {
     "data": {
      "text/plain": [
       "DescribeResult(nobs=10, minmax=(0.9704999923706055, 0.9860000014305115), mean=0.977949994802475, variance=2.2191695600189595e-05, skewness=0.23760920156369453, kurtosis=-0.7140653799876469)"
      ]
     },
     "execution_count": 35,
     "metadata": {},
     "output_type": "execute_result"
    }
   ],
   "source": [
    "from scipy import stats\n",
    "\n",
    "stats.describe(np.array(history2.history['accuracy']))"
   ]
  },
  {
   "cell_type": "code",
   "execution_count": 36,
   "metadata": {},
   "outputs": [
    {
     "data": {
      "text/plain": [
       "0.9769999980926514"
      ]
     },
     "execution_count": 36,
     "metadata": {},
     "output_type": "execute_result"
    }
   ],
   "source": [
    "# median of training accuracy\n",
    "np.median(history2.history['accuracy'])"
   ]
  },
  {
   "cell_type": "code",
   "execution_count": 37,
   "metadata": {},
   "outputs": [
    {
     "data": {
      "text/plain": [
       "0.010215202646401854"
      ]
     },
     "execution_count": 37,
     "metadata": {},
     "output_type": "execute_result"
    }
   ],
   "source": [
    "# standard deviation of training loss\n",
    "np.std(history2.history['loss'])"
   ]
  },
  {
   "cell_type": "markdown",
   "metadata": {},
   "source": [
    "### 3rd round"
   ]
  },
  {
   "cell_type": "code",
   "execution_count": 39,
   "metadata": {},
   "outputs": [
    {
     "name": "stdout",
     "output_type": "stream",
     "text": [
      "Found 20000 images belonging to 2 classes.\n",
      "Found 5000 images belonging to 2 classes.\n"
     ]
    }
   ],
   "source": [
    "gen2 = ImageDataGenerator(\n",
    "    rescale=1./255,\n",
    "    rotation_range=40,\n",
    "    width_shift_range=0.2,\n",
    "    height_shift_range=0.2,\n",
    "    shear_range=0.2,\n",
    "    zoom_range=0.2,\n",
    "    horizontal_flip=True,\n",
    "    fill_mode='nearest'\n",
    "    )\n",
    "\n",
    "train_ds = gen2.flow_from_directory(\n",
    "    './train',\n",
    "    target_size=(150, 150),\n",
    "    batch_size=20,\n",
    "    class_mode='binary'\n",
    "    )\n",
    "\n",
    "val_ds = gen2.flow_from_directory(\n",
    "    './validation',\n",
    "    target_size=(150, 150),\n",
    "    batch_size=20,\n",
    "    shuffle=False,\n",
    "    class_mode='binary'\n",
    "    )"
   ]
  },
  {
   "cell_type": "code",
   "execution_count": 40,
   "metadata": {},
   "outputs": [
    {
     "name": "stdout",
     "output_type": "stream",
     "text": [
      "Epoch 1/10\n",
      "100/100 [==============================] - 29s 286ms/step - loss: 0.6930 - accuracy: 0.6355 - val_loss: 0.8398 - val_accuracy: 0.4080\n",
      "Epoch 2/10\n",
      "100/100 [==============================] - 30s 297ms/step - loss: 0.6146 - accuracy: 0.6550 - val_loss: 0.6254 - val_accuracy: 0.6780\n",
      "Epoch 3/10\n",
      "100/100 [==============================] - 34s 336ms/step - loss: 0.6128 - accuracy: 0.6635 - val_loss: 0.4836 - val_accuracy: 0.8300\n",
      "Epoch 4/10\n",
      "100/100 [==============================] - 27s 270ms/step - loss: 0.5818 - accuracy: 0.6910 - val_loss: 0.5934 - val_accuracy: 0.6920\n",
      "Epoch 5/10\n",
      "100/100 [==============================] - 28s 274ms/step - loss: 0.5690 - accuracy: 0.6925 - val_loss: 1.0079 - val_accuracy: 0.3900\n",
      "Epoch 6/10\n",
      "100/100 [==============================] - 28s 280ms/step - loss: 0.5723 - accuracy: 0.7055 - val_loss: 0.5238 - val_accuracy: 0.7770\n",
      "Epoch 7/10\n",
      "100/100 [==============================] - 28s 280ms/step - loss: 0.6022 - accuracy: 0.6745 - val_loss: 0.6281 - val_accuracy: 0.6850\n",
      "Epoch 8/10\n",
      "100/100 [==============================] - 26s 261ms/step - loss: 0.5856 - accuracy: 0.6705 - val_loss: 0.5537 - val_accuracy: 0.7720\n",
      "Epoch 9/10\n",
      "100/100 [==============================] - 27s 265ms/step - loss: 0.5894 - accuracy: 0.6805 - val_loss: 0.5535 - val_accuracy: 0.7380\n",
      "Epoch 10/10\n",
      "100/100 [==============================] - 27s 266ms/step - loss: 0.5914 - accuracy: 0.6885 - val_loss: 0.4716 - val_accuracy: 0.8140\n"
     ]
    }
   ],
   "source": [
    "history3 = model.fit(\n",
    "    train_ds,\n",
    "    steps_per_epoch=100,\n",
    "    epochs=10,\n",
    "    validation_data=val_ds,\n",
    "    validation_steps=50\n",
    ")"
   ]
  },
  {
   "cell_type": "code",
   "execution_count": 42,
   "metadata": {},
   "outputs": [
    {
     "data": {
      "text/plain": [
       "<matplotlib.legend.Legend at 0x7f48d16246a0>"
      ]
     },
     "execution_count": 42,
     "metadata": {},
     "output_type": "execute_result"
    },
    {
     "data": {
      "image/png": "[encoded data removed]",
      "text/plain": [
       "<Figure size 432x288 with 1 Axes>"
      ]
     },
     "metadata": {
      "needs_background": "light"
     },
     "output_type": "display_data"
    }
   ],
   "source": [
    "plt.plot(history3.history['accuracy'], label='train')\n",
    "plt.plot(history3.history['val_accuracy'], label='val')\n",
    "plt.xticks(np.arange(10))\n",
    "plt.legend()"
   ]
  },
  {
   "cell_type": "code",
   "execution_count": 43,
   "metadata": {},
   "outputs": [
    {
     "data": {
      "text/plain": [
       "0.6280792862176895"
      ]
     },
     "execution_count": 43,
     "metadata": {},
     "output_type": "execute_result"
    }
   ],
   "source": [
    "np.mean(history3.history['val_loss'])"
   ]
  },
  {
   "cell_type": "code",
   "execution_count": 44,
   "metadata": {},
   "outputs": [
    {
     "data": {
      "text/plain": [
       "0.7572000026702881"
      ]
     },
     "execution_count": 44,
     "metadata": {},
     "output_type": "execute_result"
    }
   ],
   "source": [
    "np.average(history3.history['val_accuracy'][5:])"
   ]
  },
  {
   "cell_type": "code",
   "execution_count": null,
   "metadata": {},
   "outputs": [],
   "source": []
  },
  {
   "cell_type": "code",
   "execution_count": null,
   "metadata": {},
   "outputs": [],
   "source": []
  }
 ],
 "metadata": {
  "interpreter": {
   "hash": "f46acc4b343f01eeaab1736ca62ac61b7b31b5cef6f091ea62846230c5d84bd4"
  },
  "kernelspec": {
   "display_name": "Python 3.8.12 64-bit ('ml-zoomcamp': conda)",
   "language": "python",
   "name": "python3"
  },
  "language_info": {
   "codemirror_mode": {
    "name": "ipython",
    "version": 3
   },
   "file_extension": ".py",
   "mimetype": "text/x-python",
   "name": "python",
   "nbconvert_exporter": "python",
   "pygments_lexer": "ipython3",
   "version": "3.8.12"
  },
  "orig_nbformat": 4
 },
 "nbformat": 4,
 "nbformat_minor": 2
}
